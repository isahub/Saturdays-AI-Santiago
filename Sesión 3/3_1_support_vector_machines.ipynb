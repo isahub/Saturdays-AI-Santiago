{
 "cells": [
  {
   "cell_type": "markdown",
   "metadata": {},
   "source": [
    "# Support Vector Machines\n"
   ]
  },
  {
   "cell_type": "code",
   "execution_count": null,
   "metadata": {},
   "outputs": [],
   "source": [
    "import pandas as pd\n",
    "import seaborn as sns\n",
    "import numpy as np\n",
    "import matplotlib.pyplot as plt\n",
    "%matplotlib inline \n",
    "\n",
    "import nltk\n",
    "from sklearn.feature_extraction.text import CountVectorizer\n",
    "from sklearn.metrics import classification_report, confusion_matrix  \n",
    "import re\n",
    "import string\n",
    "\n",
    "from sklearn.model_selection import train_test_split\n",
    "from sklearn import svm\n"
   ]
  },
  {
   "cell_type": "markdown",
   "metadata": {},
   "source": [
    "## Prepara los datos"
   ]
  },
  {
   "cell_type": "code",
   "execution_count": null,
   "metadata": {},
   "outputs": [],
   "source": [
    "## Funcionalidad dependiente del sistema operativo\n",
    "import os\n",
    "data_directory = os.path.join('../data', '')\n",
    "admission_filepath = os.path.join(data_directory, 'microfinance_tweets.csv')\n",
    "data = pd.read_csv(admission_filepath, encoding='ISO-8859-1')\n",
    "#carga datos guardados localmente\n",
    "#data = pd.read_csv(\"microfinance_tweets.csv\", encoding=\"ISO-8859-1\")"
   ]
  },
  {
   "cell_type": "code",
   "execution_count": null,
   "metadata": {},
   "outputs": [],
   "source": [
    "data.loc[data['Sentiment'] == 'negative', 'Sentiment'] = -1\n",
    "data.loc[data['Sentiment'] == 'neutral', 'Sentiment'] = 0\n",
    "data.loc[data['Sentiment'] == 'positive', 'Sentiment'] = 1"
   ]
  },
  {
   "cell_type": "code",
   "execution_count": null,
   "metadata": {},
   "outputs": [],
   "source": [
    "data.head()"
   ]
  },
  {
   "cell_type": "code",
   "execution_count": null,
   "metadata": {},
   "outputs": [],
   "source": [
    "train, test = train_test_split(data, test_size=0.2, random_state=42)"
   ]
  },
  {
   "cell_type": "code",
   "execution_count": null,
   "metadata": {},
   "outputs": [],
   "source": [
    "vectorizer = CountVectorizer()\n",
    "train_features = vectorizer.fit_transform(train['Comments'])\n",
    "test_features =  vectorizer.transform(test['Comments'])"
   ]
  },
  {
   "cell_type": "markdown",
   "metadata": {},
   "source": [
    "Hemos vectorizado nuestros datos de modo tal que cada índice corresponde tanto a una palabra como a la frecuencia con la que esa palabra aparece en el texto"
   ]
  },
  {
   "cell_type": "code",
   "execution_count": null,
   "metadata": {},
   "outputs": [],
   "source": [
    "print(train_features[0])"
   ]
  },
  {
   "cell_type": "markdown",
   "metadata": {},
   "source": [
    "## SVM Lineal"
   ]
  },
  {
   "cell_type": "markdown",
   "metadata": {},
   "source": [
    "Hay muchos tipos de SVMs, pero primero probaremos un SVM lineal, el más básico. Esto significa que el borde de descisión será lineal. <br>\n",
    "\n",
    "Hay otro input llamado decision_function_shape. Con dos opciones: uno vs el resto, y uno vs uno. Estas se relacionan con como el borde de desición separa puntos, si separa puntos negativos del resto, o puntos negativos de puntos neutrales, etc. (https://pythonprogramming.net/support-vector-machine-parameters-machine-learning-tutorial/). El por defecto es uno vs el resto. Uno vs el resto toma menos recursos computacionales pero podría ser afectado por datos extremos y no lo hacen bien con datos inbalanceados.\n"
   ]
  },
  {
   "cell_type": "code",
   "execution_count": null,
   "metadata": {},
   "outputs": [],
   "source": [
    "clf = svm.SVC(kernel='linear')  \n",
    "clf.fit(train_features, train['Sentiment'])"
   ]
  },
  {
   "cell_type": "code",
   "execution_count": null,
   "metadata": {},
   "outputs": [],
   "source": [
    "y_train = clf.predict(train_features)  "
   ]
  },
  {
   "cell_type": "code",
   "execution_count": null,
   "metadata": {},
   "outputs": [],
   "source": [
    "print(confusion_matrix(train['Sentiment'],y_train)) \n",
    "print(classification_report(train['Sentiment'],y_train))  "
   ]
  },
  {
   "cell_type": "code",
   "execution_count": null,
   "metadata": {},
   "outputs": [],
   "source": [
    "y_pred = clf.predict(test_features)  "
   ]
  },
  {
   "cell_type": "code",
   "execution_count": null,
   "metadata": {},
   "outputs": [],
   "source": [
    "print(confusion_matrix(test['Sentiment'],y_pred)) \n",
    "print(classification_report(test['Sentiment'],y_pred))  "
   ]
  },
  {
   "cell_type": "markdown",
   "metadata": {},
   "source": [
    "¿Qué piensas del desempeño del SVM? Podemos también ajustar gamma para tomar en cuenta el sobre ajuste, pero no pareciera que estamos sobre ajustando demasiado dado los desempeños en los datos de test y entrenamiento.\n"
   ]
  },
  {
   "cell_type": "markdown",
   "metadata": {},
   "source": [
    "Recuerda que los vectores de soporte son los puntos de datos que están más cercanos a la superficie de decisión (o hyperplano). Podemos determinar cuales son estos puntos para cada clase que estamos clasificando, notando que tenemos 3 clases: negativo, neutro, y positivo.\n"
   ]
  },
  {
   "cell_type": "code",
   "execution_count": null,
   "metadata": {},
   "outputs": [],
   "source": [
    "print(clf.support_vectors_)"
   ]
  },
  {
   "cell_type": "markdown",
   "metadata": {},
   "source": [
    "Podemos corroborar el número de puntos en cada clase usando otra función. Aquí vemos que la mayoría de los vectores de soporte están en nuestra última clase, la clase positiva.\n"
   ]
  },
  {
   "cell_type": "code",
   "execution_count": null,
   "metadata": {},
   "outputs": [],
   "source": [
    "clf.n_support_"
   ]
  },
  {
   "cell_type": "markdown",
   "metadata": {},
   "source": [
    "Podemos también encontrar el vector de soporte en nuestra data original usando los índices proporcionados en clf.support_\n"
   ]
  },
  {
   "cell_type": "code",
   "execution_count": null,
   "metadata": {},
   "outputs": [],
   "source": [
    "clf.support_"
   ]
  },
  {
   "cell_type": "code",
   "execution_count": null,
   "metadata": {},
   "outputs": [],
   "source": [
    "print(train_features[8])"
   ]
  },
  {
   "cell_type": "markdown",
   "metadata": {},
   "source": [
    "##  SVM No lineal"
   ]
  },
  {
   "cell_type": "markdown",
   "metadata": {},
   "source": [
    "Podemos probar distintos tipos de kernel, con rbf siendo el gausiano, y sigmoid siendo similar a la función sigmoide de regresión logística."
   ]
  },
  {
   "cell_type": "code",
   "execution_count": null,
   "metadata": {},
   "outputs": [],
   "source": [
    "clf = svm.SVC(kernel='rbf')  \n",
    "clf.fit(train_features, train['Sentiment'])\n",
    "\n",
    "y_pred = clf.predict(test_features)  "
   ]
  },
  {
   "cell_type": "code",
   "execution_count": null,
   "metadata": {},
   "outputs": [],
   "source": [
    "print(confusion_matrix(test['Sentiment'],y_pred)) \n",
    "print(classification_report(test['Sentiment'],y_pred))  "
   ]
  },
  {
   "cell_type": "code",
   "execution_count": null,
   "metadata": {},
   "outputs": [],
   "source": [
    "clf = svm.SVC(kernel='sigmoid')  \n",
    "clf.fit(train_features, train['Sentiment'])\n",
    "\n",
    "y_pred = clf.predict(test_features)  "
   ]
  },
  {
   "cell_type": "code",
   "execution_count": null,
   "metadata": {},
   "outputs": [],
   "source": [
    "print(confusion_matrix(test['Sentiment'],y_pred)) \n",
    "print(classification_report(test['Sentiment'],y_pred))  "
   ]
  },
  {
   "cell_type": "markdown",
   "metadata": {},
   "source": [
    "Parece que el SVM lineal se desempeña mejor en este modelo tanto de la perspectiva de presición y recall. Recuerda que presición es la exactitud de la predicción y recall is que tanto del espacio positivo real estamos capturando.\n",
    "\n",
    "\n",
    "¿Qué nos dice esto sobre nuestros datos?"
   ]
  },
  {
   "cell_type": "markdown",
   "metadata": {},
   "source": [
    "Fuente: https://stackabuse.com/implementing-svm-and-kernel-svm-with-pythons-scikit-learn/, https://jakevdp.github.io/PythonDataScienceHandbook/05.07-support-vector-machines.html, https://gist.github.com/WittmannF/60680723ed8dd0cb993051a7448f7805"
   ]
  }
 ],
 "metadata": {
  "kernelspec": {
   "display_name": "Python 3.6",
   "language": "python",
   "name": "python36"
  },
  "language_info": {
   "codemirror_mode": {
    "name": "ipython",
    "version": 3
   },
   "file_extension": ".py",
   "mimetype": "text/x-python",
   "name": "python",
   "nbconvert_exporter": "python",
   "pygments_lexer": "ipython3",
   "version": "3.6.6"
  }
 },
 "nbformat": 4,
 "nbformat_minor": 2
}
