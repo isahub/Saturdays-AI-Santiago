{
  "cells": [
    {
      "metadata": {
        "colab_type": "text",
        "id": "HBThUJC9smSz"
      },
      "cell_type": "markdown",
      "source": "# Introducción al Concepto de Regularización\n\n\nEn el contexto de la regresión, la regularización se refiere a técnicas para restringir/reducir las estimaciones de coeficientes hacia cero. \n\nLa reducción de los coeficientes puede 1) mejorar el ajuste del modelo y 2) reducir la varianza de los coeficientes. \n\nDos tipos comunes de regularización son ridge y lasso. Recuerde que la regresión lineal de mínimos cuadrados minimiza la suma residual de cuadrados (RSS). En otras palabras, minimiza\n\n$ RSS = \\displaystyle \\sum^{n}_{i=1} (y_i - \\beta_0 - \\sum^{p}_{j=1} \\beta_j x_{ij})^2 $\n\nEn ridge y lasso, agregamos un termino al valor que estamos intentando minimizar.\n\nEn ridge, minimizamos\n\n$ RSS + \\lambda \\displaystyle \\sum^{p}_{j=1} \\beta_j^2 $\n\nEn lasso, minimizamos\n\n$ RSS + \\lambda \\displaystyle \\sum^{p}_{j=1} |\\beta_j| $\n\nEl $\\lambda$ (pronounciado \"lambda\") es un hiper-prámetro que determina que tan \"fuerte\" es el efecto de la regularización.\n\nNota: en oportunidades $\\alpha$ (pronounciado \"alpha\") se usa como notación en vez de $\\lambda$.\n\nUna forma útil de usar la regresión de ridge o lasso es ejecutar la regresión en un rango de alfas y ver qué variables mantienen un coeficiente beta grande durante más tiempo. ¡Son estas variables las que tienen el mejor poder predictivo! \n\nPuede encontrar más información detallada aquí: [Regularization Regression](https://www.analyticsvidhya.com/blog/2016/01/complete-tutorial-ridge-lasso-regression-python/)"
    },
    {
      "metadata": {
        "colab": {},
        "colab_type": "code",
        "id": "FsOTWVIrsmS1",
        "trusted": true
      },
      "cell_type": "code",
      "source": "# Cargar paquetes de Python\nimport matplotlib.pyplot as plt\n%matplotlib inline\nimport numpy as np\nimport pandas as pd\nimport seaborn as sns\nplt.rcParams['figure.figsize'] = (12, 8)\nsns.set()\nsns.set(font_scale=1.5)\n\n# Paquetes para validar los supuestos\nfrom scipy import stats as stats\nfrom sklearn.model_selection import train_test_split, cross_val_score\nfrom sklearn.linear_model import LinearRegression\nfrom sklearn.metrics import mean_squared_error, make_scorer\nimport statsmodels.formula.api as smf\nimport statsmodels.api as sm\n\n# Paquetes para la regularización\nfrom sklearn.linear_model import Lasso\nfrom math import pow, sqrt\n\nnp.random.seed(1234)",
      "execution_count": null,
      "outputs": []
    },
    {
      "metadata": {
        "colab_type": "text",
        "id": "MFWjCDJlsmS5"
      },
      "cell_type": "markdown",
      "source": "2) Carga de Data\n---"
    },
    {
      "metadata": {
        "colab": {
          "base_uri": "https://localhost:8080/",
          "height": 33
        },
        "colab_type": "code",
        "executionInfo": {
          "elapsed": 2721,
          "status": "ok",
          "timestamp": 1562725812726,
          "user": {
            "displayName": "Miguel Rivera S",
            "photoUrl": "https://lh4.googleusercontent.com/-q9Yvxc5eH4o/AAAAAAAAAAI/AAAAAAAAAIU/GmARyV7G9qw/s64/photo.jpg",
            "userId": "11429972115989356177"
          },
          "user_tz": 240
        },
        "id": "bGHM7aLNsmS8",
        "outputId": "27c41d36-22ab-4b6d-8a98-039d9e89e879",
        "trusted": true
      },
      "cell_type": "code",
      "source": "path = '../data/'\nfilename = 'loans.csv'\n\ndf = pd.read_csv(path+filename)",
      "execution_count": null,
      "outputs": []
    },
    {
      "metadata": {
        "colab": {
          "base_uri": "https://localhost:8080/",
          "height": 217
        },
        "colab_type": "code",
        "executionInfo": {
          "elapsed": 2704,
          "status": "ok",
          "timestamp": 1562725812729,
          "user": {
            "displayName": "Miguel Rivera S",
            "photoUrl": "https://lh4.googleusercontent.com/-q9Yvxc5eH4o/AAAAAAAAAAI/AAAAAAAAAIU/GmARyV7G9qw/s64/photo.jpg",
            "userId": "11429972115989356177"
          },
          "user_tz": 240
        },
        "id": "RKUA8I33smS_",
        "outputId": "02a5d5fa-dc1e-47c1-a97f-461b7fb52448",
        "trusted": true
      },
      "cell_type": "code",
      "source": "df.dtypes",
      "execution_count": null,
      "outputs": []
    },
    {
      "metadata": {
        "colab": {},
        "colab_type": "code",
        "id": "strpHNhOsmTE",
        "trusted": true
      },
      "cell_type": "code",
      "source": "# Creamos variables indicadoras por pais (dummies)\nfor country in df['location_country_code'].unique():\n    if country is not np.nan:\n        df['country_'+country] = np.where(df.location_country_code == country, 1, 0)",
      "execution_count": null,
      "outputs": []
    },
    {
      "metadata": {
        "colab": {},
        "colab_type": "code",
        "id": "VertOULZsmTH",
        "trusted": true
      },
      "cell_type": "code",
      "source": "# Creamos variables indicadoras por sector (dummies)\nfor sect in df['sector'].unique():\n    df['sector_'+sect] = np.where(df.sector == sect, 1, 0)",
      "execution_count": null,
      "outputs": []
    },
    {
      "metadata": {
        "colab": {
          "base_uri": "https://localhost:8080/",
          "height": 953
        },
        "colab_type": "code",
        "executionInfo": {
          "elapsed": 2937,
          "status": "ok",
          "timestamp": 1562725813013,
          "user": {
            "displayName": "Miguel Rivera S",
            "photoUrl": "https://lh4.googleusercontent.com/-q9Yvxc5eH4o/AAAAAAAAAAI/AAAAAAAAAIU/GmARyV7G9qw/s64/photo.jpg",
            "userId": "11429972115989356177"
          },
          "user_tz": 240
        },
        "id": "FS1lvDB3smTJ",
        "outputId": "db75b614-97af-4b35-8b48-5921a9380b34",
        "trusted": true
      },
      "cell_type": "code",
      "source": "df.dtypes",
      "execution_count": null,
      "outputs": []
    },
    {
      "metadata": {
        "colab": {
          "base_uri": "https://localhost:8080/",
          "height": 535
        },
        "colab_type": "code",
        "executionInfo": {
          "elapsed": 2921,
          "status": "ok",
          "timestamp": 1562725813014,
          "user": {
            "displayName": "Miguel Rivera S",
            "photoUrl": "https://lh4.googleusercontent.com/-q9Yvxc5eH4o/AAAAAAAAAAI/AAAAAAAAAIU/GmARyV7G9qw/s64/photo.jpg",
            "userId": "11429972115989356177"
          },
          "user_tz": 240
        },
        "id": "CfUqtxE0smTN",
        "outputId": "0cb4724a-1e5c-4107-8995-b6d2516fedef",
        "trusted": true
      },
      "cell_type": "code",
      "source": "pd.options.mode.chained_assignment = None  # default='warn'\n\n# Definimos la variable dependiente\ny = df['loan_amount']\n# Definimos las variables independientes\nX = df[['lender_count', 'sector_Education', 'sector_Clothing', \n        'sector_Personal Use', 'sector_Retail', 'sector_Transportation', 'sector_Agriculture']]\n# Agregamos el intercepto a la variable independiente\nX['cnst'] = 1\nX_train, X_test, y_train, y_test = train_test_split(X, y, test_size=0.2, random_state=42)\n\nmodel1 = sm.OLS(endog = y_train,exog = X_train).fit()\nprint(model1.summary())",
      "execution_count": null,
      "outputs": []
    },
    {
      "metadata": {
        "colab": {},
        "colab_type": "code",
        "id": "h6odG8xVsmTR",
        "trusted": true
      },
      "cell_type": "code",
      "source": "alphas = np.arange(0.001, 0.502, 0.002)\nlasso_coefs = []\nX_train_lasso= X_train[X_train.columns.tolist()] # Select columns / features for model\n\nfor a in alphas:\n    lassoreg = Lasso(alpha=a, copy_X=True, normalize=True)\n    lassoreg.fit(X_train_lasso, y_train)\n    lasso_coefs.append(lassoreg.coef_)",
      "execution_count": null,
      "outputs": []
    },
    {
      "metadata": {
        "colab": {
          "base_uri": "https://localhost:8080/",
          "height": 608
        },
        "colab_type": "code",
        "executionInfo": {
          "elapsed": 4055,
          "status": "ok",
          "timestamp": 1562725814192,
          "user": {
            "displayName": "Miguel Rivera S",
            "photoUrl": "https://lh4.googleusercontent.com/-q9Yvxc5eH4o/AAAAAAAAAAI/AAAAAAAAAIU/GmARyV7G9qw/s64/photo.jpg",
            "userId": "11429972115989356177"
          },
          "user_tz": 240
        },
        "id": "xbw0Xu8qsmTT",
        "outputId": "8520ef30-3575-4acd-aaf9-90cbec7386dd",
        "trusted": true
      },
      "cell_type": "code",
      "source": "lasso_coefs = np.asarray(lasso_coefs).T\n\nplt.figure(figsize=(14,10))\nfor coefs, feature in zip(lasso_coefs, X_train_lasso.columns):\n    plt.plot(alphas, coefs, label = feature)\nplt.legend(loc='best')\nplt.show()",
      "execution_count": null,
      "outputs": []
    },
    {
      "metadata": {
        "colab_type": "text",
        "id": "5qdRb7jUsmTX"
      },
      "cell_type": "markdown",
      "source": "Retail and Transportation go to 0 when alpha is 0.3.  Let's try removing these from the model."
    },
    {
      "metadata": {
        "colab": {
          "base_uri": "https://localhost:8080/",
          "height": 502
        },
        "colab_type": "code",
        "executionInfo": {
          "elapsed": 4330,
          "status": "ok",
          "timestamp": 1562725814482,
          "user": {
            "displayName": "Miguel Rivera S",
            "photoUrl": "https://lh4.googleusercontent.com/-q9Yvxc5eH4o/AAAAAAAAAAI/AAAAAAAAAIU/GmARyV7G9qw/s64/photo.jpg",
            "userId": "11429972115989356177"
          },
          "user_tz": 240
        },
        "id": "ddW9dkkvsmTY",
        "outputId": "351cf839-0365-41a4-a451-c28028c0ba08",
        "trusted": true
      },
      "cell_type": "code",
      "source": "pd.options.mode.chained_assignment = None  # default='warn'\n\n# Define the dependent variable\ny = df['loan_amount']\n# Define the independent variables\nX = df[['lender_count', 'sector_Education', 'sector_Clothing', \n        'sector_Personal Use', 'sector_Agriculture']]\n# Add an intercept term to the independent variables\nX['cnst'] = 1\nX_train, X_test, y_train, y_test = train_test_split(X, y, test_size=0.2, random_state=42)\n\nmodel2 = sm.OLS(endog = y_train,exog = X_train).fit()\nprint(model2.summary())",
      "execution_count": null,
      "outputs": []
    },
    {
      "metadata": {
        "colab_type": "text",
        "id": "1pN7DTSMsmTb"
      },
      "cell_type": "markdown",
      "source": "Aunque eliminamos dos variables dependientes del análisis, nuestro R cuadrado y el R cuadrado ajustado se mantuvieron igual. Esto significa que las dos variables que eliminamos (Transportation y Retail) son menos importantes para el monto del préstamo. El ejemplo anterior muestra cómo podemos usar la regularización para la selección de variables."
    },
    {
      "metadata": {
        "colab_type": "text",
        "id": "MDe_h8i0smTc"
      },
      "cell_type": "markdown",
      "source": "# Aspectos importante de la regularización\n\nRecuerde que con regresión lineal de mínimos cuadrados, los coeficientes son equivalentes de escala. En otras palabras, multiplicar una variable por una constante $ c $ es equivalente a escalar de la estimación del coeficiente de mínimos cuadrados por un factor de 1 / $ c $. \n\nDemostremos este hecho creando un conjunto de datos de ejemplo que tenga tres variables: 1) cantidad de dinero que se gana en un restaurante en un día, 2) distancia en metros a la universidad más cercana, 3) distancia en kilómetros al hospital más cercano."
    },
    {
      "metadata": {
        "colab": {},
        "colab_type": "code",
        "id": "tLMXE2RbsmTd",
        "trusted": true
      },
      "cell_type": "code",
      "source": "np.random.seed(1234)\n\nearnings = np.random.normal(2000, 300, 50)\nuniversity_distances = np.random.normal(7000,2000,50)\nhospital_distances = np.random.normal(7,2,50)\n\nearnings = [a if a > 0 else -a for a in earnings]\nuniversity_distances = [a if a > 0 else -a for a in university_distances]\nhospital_distances = [a if a > 0 else -a for a in hospital_distances]",
      "execution_count": null,
      "outputs": []
    },
    {
      "metadata": {
        "colab": {},
        "colab_type": "code",
        "id": "xfyGwggosmTg",
        "trusted": true
      },
      "cell_type": "code",
      "source": "df = pd.DataFrame({\"earnings\": sorted(earnings), \"university\": sorted(university_distances, reverse=True), \n                   'hospital' : sorted(hospital_distances, reverse=True)})",
      "execution_count": null,
      "outputs": []
    },
    {
      "metadata": {
        "colab": {
          "base_uri": "https://localhost:8080/",
          "height": 1000
        },
        "colab_type": "code",
        "executionInfo": {
          "elapsed": 4313,
          "status": "ok",
          "timestamp": 1562725814498,
          "user": {
            "displayName": "Miguel Rivera S",
            "photoUrl": "https://lh4.googleusercontent.com/-q9Yvxc5eH4o/AAAAAAAAAAI/AAAAAAAAAIU/GmARyV7G9qw/s64/photo.jpg",
            "userId": "11429972115989356177"
          },
          "user_tz": 240
        },
        "id": "XBkgb-EvsmTi",
        "outputId": "265bf6ed-925c-4e27-d417-912e175ce9bb",
        "trusted": true
      },
      "cell_type": "code",
      "source": "df",
      "execution_count": null,
      "outputs": []
    },
    {
      "metadata": {
        "colab": {
          "base_uri": "https://localhost:8080/",
          "height": 551
        },
        "colab_type": "code",
        "executionInfo": {
          "elapsed": 4602,
          "status": "ok",
          "timestamp": 1562725814799,
          "user": {
            "displayName": "Miguel Rivera S",
            "photoUrl": "https://lh4.googleusercontent.com/-q9Yvxc5eH4o/AAAAAAAAAAI/AAAAAAAAAIU/GmARyV7G9qw/s64/photo.jpg",
            "userId": "11429972115989356177"
          },
          "user_tz": 240
        },
        "id": "oXea9qFpsmTn",
        "outputId": "6bd55d52-2a58-41c2-88f9-3596f669ee5d",
        "trusted": true
      },
      "cell_type": "code",
      "source": "# Grafico: distancia a la universidad mas cercana (en metros) vs. ganancia\n\nax = sns.regplot(x='earnings', y='university', data=df, fit_reg=False)\nax.set_title('Scatter plot of distance to nearest university (in meters) vs earnings')",
      "execution_count": null,
      "outputs": []
    },
    {
      "metadata": {
        "colab": {
          "base_uri": "https://localhost:8080/",
          "height": 551
        },
        "colab_type": "code",
        "executionInfo": {
          "elapsed": 5059,
          "status": "ok",
          "timestamp": 1562725815270,
          "user": {
            "displayName": "Miguel Rivera S",
            "photoUrl": "https://lh4.googleusercontent.com/-q9Yvxc5eH4o/AAAAAAAAAAI/AAAAAAAAAIU/GmARyV7G9qw/s64/photo.jpg",
            "userId": "11429972115989356177"
          },
          "user_tz": 240
        },
        "id": "UgkjjWdGsmTs",
        "outputId": "2ef2b822-4174-45b8-ba1b-d7cde40d62c8",
        "trusted": true
      },
      "cell_type": "code",
      "source": "# Grafico: distancia al hospital mas cercano (en metros) vs. ganancia\n\nax = sns.regplot(x='earnings', y='hospital', data=df, fit_reg=False)\nax.set_title('Scatter plot of distance to nearest hospital (in kilometers) vs earnings')",
      "execution_count": null,
      "outputs": []
    },
    {
      "metadata": {
        "colab_type": "text",
        "id": "VvWbujO9smTx"
      },
      "cell_type": "markdown",
      "source": "Realicemos una regresión lineal multivariante sin escalar ninguna variable y comparemos los resultados con un modelo en el que estandaricemos las variables de distancia para que ambos usen kilómetros."
    },
    {
      "metadata": {
        "colab": {
          "base_uri": "https://localhost:8080/",
          "height": 485
        },
        "colab_type": "code",
        "executionInfo": {
          "elapsed": 5046,
          "status": "ok",
          "timestamp": 1562725815271,
          "user": {
            "displayName": "Miguel Rivera S",
            "photoUrl": "https://lh4.googleusercontent.com/-q9Yvxc5eH4o/AAAAAAAAAAI/AAAAAAAAAIU/GmARyV7G9qw/s64/photo.jpg",
            "userId": "11429972115989356177"
          },
          "user_tz": 240
        },
        "id": "wLv1cIOismTx",
        "outputId": "63f7a49e-e105-4583-a3f3-6effdf5e052e",
        "trusted": true
      },
      "cell_type": "code",
      "source": "model1 = smf.ols(formula = 'earnings ~ university + hospital', data = df).fit()\nprint(model1.summary())",
      "execution_count": null,
      "outputs": []
    },
    {
      "metadata": {
        "colab_type": "text",
        "id": "5NyEJL64smT1"
      },
      "cell_type": "markdown",
      "source": "El R cuadrado es 0.938 y el R cuadrado ajustado es 0.935. Los coeficientes para el intercepto, la universidad y el hospital son 3024.1009, -0.0643 y -76.3083. Ahora escalemos la variable universitaria para que esté en kilómetros en lugar de metros."
    },
    {
      "metadata": {
        "colab": {
          "base_uri": "https://localhost:8080/",
          "height": 1000
        },
        "colab_type": "code",
        "executionInfo": {
          "elapsed": 5033,
          "status": "ok",
          "timestamp": 1562725815272,
          "user": {
            "displayName": "Miguel Rivera S",
            "photoUrl": "https://lh4.googleusercontent.com/-q9Yvxc5eH4o/AAAAAAAAAAI/AAAAAAAAAIU/GmARyV7G9qw/s64/photo.jpg",
            "userId": "11429972115989356177"
          },
          "user_tz": 240
        },
        "id": "ZE-u8HVpsmT2",
        "outputId": "71df223c-203c-4800-d5df-9f75c72eadaf",
        "trusted": true
      },
      "cell_type": "code",
      "source": "df_scaled = df.copy()\ndf_scaled['university'] = df_scaled['university']/1000\n\ndf_scaled",
      "execution_count": null,
      "outputs": []
    },
    {
      "metadata": {
        "colab": {
          "base_uri": "https://localhost:8080/",
          "height": 452
        },
        "colab_type": "code",
        "executionInfo": {
          "elapsed": 5266,
          "status": "ok",
          "timestamp": 1562725815517,
          "user": {
            "displayName": "Miguel Rivera S",
            "photoUrl": "https://lh4.googleusercontent.com/-q9Yvxc5eH4o/AAAAAAAAAAI/AAAAAAAAAIU/GmARyV7G9qw/s64/photo.jpg",
            "userId": "11429972115989356177"
          },
          "user_tz": 240
        },
        "id": "FThNCxmrsmT7",
        "outputId": "f5a9992b-7c21-4a78-838a-73ce435ea9cc",
        "trusted": true
      },
      "cell_type": "code",
      "source": "model2 = smf.ols(formula = 'earnings ~ university + hospital', data = df_scaled).fit()\nprint(model2.summary())",
      "execution_count": null,
      "outputs": []
    },
    {
      "metadata": {
        "colab_type": "text",
        "id": "zG51wVX5smT_"
      },
      "cell_type": "markdown",
      "source": "El R cuadrado es 0.938 y el R cuadrado ajustado es 0.935. Los coeficientes para el intercepto, la universidad y el hospital son 3024.1009, -64.3473 y -76.3083. Ahora, cambiamos la variable universitaria al escalarla por una constante y el coeficiente resultante fue escalado por la misma constante. Los p-values no cambiaron y los coeficientes de las otras variables no cambiaron. \n\n¿Qué crees que hará el escalado si incorporamos la regularización mediante el uso de regresión lasso ridge? ¿Crees que la escala tendrá un efecto en los coeficientes de las variables?\n\n<br>\n<br>\n<br>\n<br>"
    },
    {
      "metadata": {
        "colab_type": "text",
        "id": "shkkSUzAsmT_"
      },
      "cell_type": "markdown",
      "source": "Ejecutemos la regresión lasso en nuestros datos sin escala y con los datos escalados y veamos qué sucede."
    },
    {
      "metadata": {
        "colab_type": "text",
        "id": "ENdB0vSosmUA"
      },
      "cell_type": "markdown",
      "source": "# Data sin escalar"
    },
    {
      "metadata": {
        "colab": {
          "base_uri": "https://localhost:8080/",
          "height": 608
        },
        "colab_type": "code",
        "executionInfo": {
          "elapsed": 6199,
          "status": "ok",
          "timestamp": 1562725816460,
          "user": {
            "displayName": "Miguel Rivera S",
            "photoUrl": "https://lh4.googleusercontent.com/-q9Yvxc5eH4o/AAAAAAAAAAI/AAAAAAAAAIU/GmARyV7G9qw/s64/photo.jpg",
            "userId": "11429972115989356177"
          },
          "user_tz": 240
        },
        "id": "2OBX8-P6smUB",
        "outputId": "d134c91f-5eff-4cf7-c9d1-ff19db610ff3",
        "trusted": true
      },
      "cell_type": "code",
      "source": "X = df[['university', 'hospital']]\ny = df['earnings']\n\nalphas = np.arange(0.001, 1, 0.002)\nlasso_coefs = []\nX_lasso= X[X.columns.tolist()] # Select columns / features for model\n\nfor a in alphas:\n    lassoreg = Lasso(alpha=a, copy_X=True, normalize=True)\n    lassoreg.fit(X_lasso, y)\n    lasso_coefs.append(lassoreg.coef_)\n    \nlasso_coefs = np.asarray(lasso_coefs).T\n\nplt.figure(figsize=(14,10))\nfor coefs, feature in zip(lasso_coefs, X_lasso.columns):\n    plt.plot(alphas, coefs, label = feature)\nplt.legend(loc='best')\nplt.show()",
      "execution_count": null,
      "outputs": []
    },
    {
      "metadata": {
        "colab_type": "text",
        "id": "I5OSp-BCsmUE"
      },
      "cell_type": "markdown",
      "source": "El gráfico anterior muestra los coeficientes para las variables de universidad y hospital en 0 y aproximadamente -75, respectivamente. ¿Conservaría o eliminaría estas variables de su modelo? ¿Por qué?\n\n<br>\n<br>\n<br>\n<br>"
    },
    {
      "metadata": {
        "colab_type": "text",
        "id": "LakSsDULsmUF"
      },
      "cell_type": "markdown",
      "source": "# Data escalada"
    },
    {
      "metadata": {
        "colab": {
          "base_uri": "https://localhost:8080/",
          "height": 608
        },
        "colab_type": "code",
        "executionInfo": {
          "elapsed": 7173,
          "status": "ok",
          "timestamp": 1562725817448,
          "user": {
            "displayName": "Miguel Rivera S",
            "photoUrl": "https://lh4.googleusercontent.com/-q9Yvxc5eH4o/AAAAAAAAAAI/AAAAAAAAAIU/GmARyV7G9qw/s64/photo.jpg",
            "userId": "11429972115989356177"
          },
          "user_tz": 240
        },
        "id": "yf0X0g2GsmUI",
        "outputId": "04e7c53d-da30-4187-89b4-651f64883d55",
        "trusted": true
      },
      "cell_type": "code",
      "source": "X = df_scaled[['university', 'hospital']]\ny = df_scaled['earnings']\n\nalphas = np.arange(0.001, 1, 0.002)\nlasso_coefs = []\nX_lasso= X[X.columns.tolist()] # Select columns / features for model\n\nfor a in alphas:\n    lassoreg = Lasso(alpha=a, copy_X=True, normalize=True)\n    lassoreg.fit(X_lasso, y)\n    lasso_coefs.append(lassoreg.coef_)\n    \nlasso_coefs = np.asarray(lasso_coefs).T\n\nplt.figure(figsize=(14,10))\nfor coefs, feature in zip(lasso_coefs, X_lasso.columns):\n    plt.plot(alphas, coefs, label = feature)\nplt.legend(loc='best')\nplt.show()",
      "execution_count": null,
      "outputs": []
    },
    {
      "metadata": {
        "colab_type": "text",
        "id": "Jvzhlr6-smUL"
      },
      "cell_type": "markdown",
      "source": "El gráfico anterior muestra que el coeficiente para las variables de la universidad y el hospital es de alrededor de -64 y -76, respectivamente. ¿Conservaría o eliminaría estas variables de su modelo? ¿Por qué?\n\n<br>\n<br>\n<br>\n<br>"
    },
    {
      "metadata": {
        "colab_type": "text",
        "id": "kJmQ_e3-smUM"
      },
      "cell_type": "markdown",
      "source": "Claramente, la escala afecta los coeficientes y, por lo tanto, afecta los resultados de la regresión lasso. Por lo tanto, es mejor aplicar técnicas de regularización como ridge y lasso después de estandarizar los predictores. Puede estandarizar los predictores aplicando la siguiente fórmula:\n\n$ \\tilde{x}_{ij} = \\frac{x_{ij}}{\\sqrt{\\frac{1}{n} \\sum_{i=1}^{n} (x_{ij} - \\bar{x}_{j})^2}} $\n\nAsí que ahora tomemos los datos sin escala y creemos un nuevo conjunto de datos donde estandaricemos los predictores."
    },
    {
      "metadata": {
        "colab": {},
        "colab_type": "code",
        "id": "MeUUFlCOsmUM",
        "trusted": true
      },
      "cell_type": "code",
      "source": "df_standardized = df.copy()",
      "execution_count": null,
      "outputs": []
    },
    {
      "metadata": {
        "colab": {},
        "colab_type": "code",
        "id": "sjeFSZvZsmUP",
        "trusted": true
      },
      "cell_type": "code",
      "source": "university_mean = df_standardized['university'].mean()\nuniversity_denom = sqrt(sum((df_standardized['university']-university_mean)**2)/len(df_standardized['university']))\n\nhospital_mean = df_standardized['hospital'].mean()\nhospital_denom = sqrt(sum((df_standardized['hospital']-hospital_mean)**2)/len(df_standardized['hospital']))",
      "execution_count": null,
      "outputs": []
    },
    {
      "metadata": {
        "colab": {},
        "colab_type": "code",
        "id": "Q1tp8KJtsmUS",
        "trusted": true
      },
      "cell_type": "code",
      "source": "df_standardized['university'] = df_standardized['university']/university_denom\ndf_standardized['hospital'] = df_standardized['hospital']/hospital_denom\n",
      "execution_count": null,
      "outputs": []
    },
    {
      "metadata": {
        "colab": {
          "base_uri": "https://localhost:8080/",
          "height": 1000
        },
        "colab_type": "code",
        "executionInfo": {
          "elapsed": 7146,
          "status": "ok",
          "timestamp": 1562725817464,
          "user": {
            "displayName": "Miguel Rivera S",
            "photoUrl": "https://lh4.googleusercontent.com/-q9Yvxc5eH4o/AAAAAAAAAAI/AAAAAAAAAIU/GmARyV7G9qw/s64/photo.jpg",
            "userId": "11429972115989356177"
          },
          "user_tz": 240
        },
        "id": "_lXQLtLHsmUU",
        "outputId": "3d955ddf-0c96-40d2-ca11-f51a543bec59",
        "trusted": true
      },
      "cell_type": "code",
      "source": "df_standardized",
      "execution_count": null,
      "outputs": []
    },
    {
      "metadata": {
        "colab": {
          "base_uri": "https://localhost:8080/",
          "height": 608
        },
        "colab_type": "code",
        "executionInfo": {
          "elapsed": 8311,
          "status": "ok",
          "timestamp": 1562725818639,
          "user": {
            "displayName": "Miguel Rivera S",
            "photoUrl": "https://lh4.googleusercontent.com/-q9Yvxc5eH4o/AAAAAAAAAAI/AAAAAAAAAIU/GmARyV7G9qw/s64/photo.jpg",
            "userId": "11429972115989356177"
          },
          "user_tz": 240
        },
        "id": "vWFnUEhCsmUX",
        "outputId": "777b55f6-2f9f-4bd9-e4ba-5d416acc34f4",
        "trusted": true
      },
      "cell_type": "code",
      "source": "X = df_standardized[['university', 'hospital']]\ny = df_standardized['earnings']\n\nalphas = np.arange(0.001, 1, 0.002)\nlasso_coefs = []\nX_lasso= X[X.columns.tolist()] # Select columns / features for model\n\nfor a in alphas:\n    lassoreg = Lasso(alpha=a, copy_X=True, normalize=True)\n    lassoreg.fit(X_lasso, y)\n    lasso_coefs.append(lassoreg.coef_)\n    \nlasso_coefs = np.asarray(lasso_coefs).T\n\nplt.figure(figsize=(14,10))\nfor coefs, feature in zip(lasso_coefs, X_lasso.columns):\n    plt.plot(alphas, coefs, label = feature)\nplt.legend(loc='best')\nplt.show()",
      "execution_count": null,
      "outputs": []
    },
    {
      "metadata": {
        "colab_type": "text",
        "id": "wtCYfv72smUa"
      },
      "cell_type": "markdown",
      "source": "Ahora que hemos escalado nuestras variables, ¡los coeficientes han vuelto a estar dentro del mismo orden de magnitud! \n\nRecuerde siempre estandarizar las variables cuando use la regularización."
    },
    {
      "metadata": {
        "colab": {},
        "colab_type": "code",
        "id": "nNb1HYr9smUa",
        "trusted": true
      },
      "cell_type": "code",
      "source": "",
      "execution_count": null,
      "outputs": []
    }
  ],
  "metadata": {
    "colab": {
      "collapsed_sections": [],
      "name": "2_5_linear_regression_regularization.ipynb",
      "provenance": [],
      "version": "0.3.2"
    },
    "kernelspec": {
      "name": "python3",
      "display_name": "Python 3",
      "language": "python"
    },
    "language_info": {
      "mimetype": "text/x-python",
      "nbconvert_exporter": "python",
      "name": "python",
      "file_extension": ".py",
      "version": "3.5.4",
      "pygments_lexer": "ipython3",
      "codemirror_mode": {
        "version": 3,
        "name": "ipython"
      }
    }
  },
  "nbformat": 4,
  "nbformat_minor": 1
}