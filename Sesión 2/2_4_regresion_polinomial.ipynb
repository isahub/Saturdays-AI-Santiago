{
  "cells": [
    {
      "metadata": {
        "colab_type": "text",
        "id": "_HNjS3qTrk0L"
      },
      "cell_type": "markdown",
      "source": "# Introducción a Regresión Polinomial\n\nLa regresión lineal univariada (una variable dependiente) y multivariada (más de una variable dependiente) que hemos discutido hasta ahora siempre supone una relación lineal entre las variables independientes y dependientes. En el mundo real, es muy común tener datos donde hay una relación no lineal entre las variables independientes y dependientes. En estos casos, podemos usar la regresión polinómica en la que suponemos que la relación entre la variable independiente x y la variable o variables dependientes y se modela como un polinomio de enésimo grado. Por ejemplo, de la lectura hemos aprendido que la relación entre el número de millas caminadas por día y la edad se puede modelar mediante una ecuación cuadrática.\n"
    },
    {
      "metadata": {
        "colab": {},
        "colab_type": "code",
        "id": "yFYtnpeOrk0N",
        "trusted": true
      },
      "cell_type": "code",
      "source": "import numpy as np\nimport matplotlib.pyplot as plt\nimport statistics as s\nimport pandas as pd\nimport seaborn as sns\nplt.rcParams['figure.figsize'] = (12, 8)\nsns.set()\nsns.set(font_scale=1.5)\n\nimport statsmodels.formula.api as sm\nfrom sklearn.model_selection import train_test_split\n\nnp.random.seed(1234)",
      "execution_count": null,
      "outputs": []
    },
    {
      "metadata": {
        "colab": {},
        "colab_type": "code",
        "id": "99hDuFInrk0R",
        "trusted": true
      },
      "cell_type": "code",
      "source": "kms = np.random.normal(5, 2, 50)\nages = np.random.normal(40,13,50)\nages = [a if a > 0 else -a for a in ages] #list comprehension",
      "execution_count": null,
      "outputs": []
    },
    {
      "metadata": {
        "colab": {
          "base_uri": "https://localhost:8080/",
          "height": 50
        },
        "colab_type": "code",
        "executionInfo": {
          "elapsed": 798,
          "status": "ok",
          "timestamp": 1562725317447,
          "user": {
            "displayName": "Miguel Rivera S",
            "photoUrl": "https://lh4.googleusercontent.com/-q9Yvxc5eH4o/AAAAAAAAAAI/AAAAAAAAAIU/GmARyV7G9qw/s64/photo.jpg",
            "userId": "11429972115989356177"
          },
          "user_tz": 240
        },
        "id": "A8nSlQJPrk0U",
        "outputId": "4ab6ca3b-948e-4bf2-804f-d8ab3e23f68c",
        "trusted": true
      },
      "cell_type": "code",
      "source": "first_kms = sorted(kms[0:int(round(len(kms)/2,0))])\nsecond_kms = sorted(kms[int(round(len(kms)/2,0)):len(kms)], reverse=True)\n\nages = sorted(ages)\nkms = first_kms + second_kms\nprint(len(kms))\nprint(len(ages))",
      "execution_count": null,
      "outputs": []
    },
    {
      "metadata": {
        "colab": {},
        "colab_type": "code",
        "id": "YzjjgBrrrk0Z",
        "trusted": true
      },
      "cell_type": "code",
      "source": "df = pd.DataFrame({\"age\": ages, \"kilometers\": kms})",
      "execution_count": null,
      "outputs": []
    },
    {
      "metadata": {
        "colab": {
          "base_uri": "https://localhost:8080/",
          "height": 1000
        },
        "colab_type": "code",
        "executionInfo": {
          "elapsed": 790,
          "status": "ok",
          "timestamp": 1562725317453,
          "user": {
            "displayName": "Miguel Rivera S",
            "photoUrl": "https://lh4.googleusercontent.com/-q9Yvxc5eH4o/AAAAAAAAAAI/AAAAAAAAAIU/GmARyV7G9qw/s64/photo.jpg",
            "userId": "11429972115989356177"
          },
          "user_tz": 240
        },
        "id": "t42E0xQ8rk0c",
        "outputId": "0ef58038-e467-40d9-9fd8-608add030022",
        "trusted": true
      },
      "cell_type": "code",
      "source": "df",
      "execution_count": null,
      "outputs": []
    },
    {
      "metadata": {
        "colab": {
          "base_uri": "https://localhost:8080/",
          "height": 582
        },
        "colab_type": "code",
        "executionInfo": {
          "elapsed": 1297,
          "status": "ok",
          "timestamp": 1562725317977,
          "user": {
            "displayName": "Miguel Rivera S",
            "photoUrl": "https://lh4.googleusercontent.com/-q9Yvxc5eH4o/AAAAAAAAAAI/AAAAAAAAAIU/GmARyV7G9qw/s64/photo.jpg",
            "userId": "11429972115989356177"
          },
          "user_tz": 240
        },
        "id": "YSDqymmTrk0g",
        "outputId": "a3ae4ad4-c2dd-493b-c56f-e42866f0a161",
        "trusted": true
      },
      "cell_type": "code",
      "source": "plt.hist(df['age'])",
      "execution_count": null,
      "outputs": []
    },
    {
      "metadata": {
        "colab": {
          "base_uri": "https://localhost:8080/",
          "height": 582
        },
        "colab_type": "code",
        "executionInfo": {
          "elapsed": 1748,
          "status": "ok",
          "timestamp": 1562725318443,
          "user": {
            "displayName": "Miguel Rivera S",
            "photoUrl": "https://lh4.googleusercontent.com/-q9Yvxc5eH4o/AAAAAAAAAAI/AAAAAAAAAIU/GmARyV7G9qw/s64/photo.jpg",
            "userId": "11429972115989356177"
          },
          "user_tz": 240
        },
        "id": "Su0lGeD3rk0k",
        "outputId": "7ff96373-3807-4b2b-b746-016b5178848f",
        "trusted": true
      },
      "cell_type": "code",
      "source": "plt.hist(df['kilometers'])",
      "execution_count": null,
      "outputs": []
    },
    {
      "metadata": {
        "colab": {
          "base_uri": "https://localhost:8080/",
          "height": 551
        },
        "colab_type": "code",
        "executionInfo": {
          "elapsed": 2078,
          "status": "ok",
          "timestamp": 1562725318787,
          "user": {
            "displayName": "Miguel Rivera S",
            "photoUrl": "https://lh4.googleusercontent.com/-q9Yvxc5eH4o/AAAAAAAAAAI/AAAAAAAAAIU/GmARyV7G9qw/s64/photo.jpg",
            "userId": "11429972115989356177"
          },
          "user_tz": 240
        },
        "id": "jWJ6cp-Zrk0n",
        "outputId": "53bb4a74-9ed2-4166-fe01-8a01a53aa16d",
        "trusted": true
      },
      "cell_type": "code",
      "source": "# Grafico kilometers vs. age\nax = sns.regplot(x='age', y='kilometers', data=df, fit_reg=False)\nax.set_title('Scatter plot of kilometers walked in a day vs age')",
      "execution_count": null,
      "outputs": []
    },
    {
      "metadata": {
        "colab_type": "text",
        "id": "AXbXozLkrk0r"
      },
      "cell_type": "markdown",
      "source": "¿Te parece lineal la relación anterior? Si no, ¿qué tipo de relación crees que es?\n\n</br>\n</br>\n</br>"
    },
    {
      "metadata": {
        "colab_type": "text",
        "id": "7D7OwBojrk0s"
      },
      "cell_type": "markdown",
      "source": "Intentemos ajustar una parábola (un polinomio de 2 grados) a los datos."
    },
    {
      "metadata": {
        "colab": {
          "base_uri": "https://localhost:8080/",
          "height": 485
        },
        "colab_type": "code",
        "executionInfo": {
          "elapsed": 2073,
          "status": "ok",
          "timestamp": 1562725318790,
          "user": {
            "displayName": "Miguel Rivera S",
            "photoUrl": "https://lh4.googleusercontent.com/-q9Yvxc5eH4o/AAAAAAAAAAI/AAAAAAAAAIU/GmARyV7G9qw/s64/photo.jpg",
            "userId": "11429972115989356177"
          },
          "user_tz": 240
        },
        "id": "kMAEmJjwrk0t",
        "outputId": "5d8621a8-e20f-461c-c5e6-f3eb875037a9",
        "trusted": true
      },
      "cell_type": "code",
      "source": "pd.options.mode.chained_assignment = None  # default='warn'\n\n# Definamos nuestra variable dependiente\ny_column = 'kilometers'\ny = df[y_column]\n# Definamos nuestras variables independientes\nx_columns = ['age']\nX = df[x_columns]\n\n# Dividimos la data entre desarrollo y validación\nX_train, X_test, y_train, y_test = train_test_split(X, y, test_size=0.2, random_state=42)\ntraining = pd.concat([pd.DataFrame({'kilometers' : y_train}), X_train], axis=1)\n\nmodel = sm.ols(formula = 'kilometers ~ np.power(age, 2) + age', data = training).fit()\nprint(model.summary())",
      "execution_count": null,
      "outputs": []
    },
    {
      "metadata": {
        "colab": {
          "base_uri": "https://localhost:8080/",
          "height": 481
        },
        "colab_type": "code",
        "executionInfo": {
          "elapsed": 2421,
          "status": "ok",
          "timestamp": 1562725319139,
          "user": {
            "displayName": "Miguel Rivera S",
            "photoUrl": "https://lh4.googleusercontent.com/-q9Yvxc5eH4o/AAAAAAAAAAI/AAAAAAAAAIU/GmARyV7G9qw/s64/photo.jpg",
            "userId": "11429972115989356177"
          },
          "user_tz": 240
        },
        "id": "k3TjuUNDrk0x",
        "outputId": "492c1306-baac-493e-ad89-c1358fd3fb15",
        "trusted": true
      },
      "cell_type": "code",
      "source": "# Obtengamos los predictores de la data entrenamiento y grafiquemos\ntraining['preds'] = model.predict(training['age'])\n\nplt.figure(figsize=(9,7))\nplt.scatter(training['age'], training['kilometers'], alpha=0.5, c='r')\nplt.scatter(training['age'], training['preds'], alpha=0.5, c='g')\nplt.title('Valores estimados y reales Kilometers by Age para la data entrenamiento')\nplt.xlabel('Age')\nplt.ylabel('Kilometers')\nplt.legend()\nplt.show();\n",
      "execution_count": null,
      "outputs": []
    },
    {
      "metadata": {
        "colab": {},
        "colab_type": "code",
        "id": "rB45vQp0rk00",
        "trusted": true
      },
      "cell_type": "code",
      "source": "p = model.params",
      "execution_count": null,
      "outputs": []
    },
    {
      "metadata": {
        "colab_type": "text",
        "id": "UOqcPmUurk03"
      },
      "cell_type": "markdown",
      "source": "Termine este notebook para ajustar el modelo a los datos de prueba (test data). ¿Cómo es el ajuste?"
    },
    {
      "metadata": {
        "trusted": true
      },
      "cell_type": "code",
      "source": "",
      "execution_count": null,
      "outputs": []
    }
  ],
  "metadata": {
    "colab": {
      "collapsed_sections": [],
      "name": "2_4_polynomial_regression.ipynb",
      "provenance": [],
      "version": "0.3.2"
    },
    "kernelspec": {
      "name": "python3",
      "display_name": "Python 3",
      "language": "python"
    },
    "language_info": {
      "mimetype": "text/x-python",
      "nbconvert_exporter": "python",
      "name": "python",
      "file_extension": ".py",
      "version": "3.5.4",
      "pygments_lexer": "ipython3",
      "codemirror_mode": {
        "version": 3,
        "name": "ipython"
      }
    }
  },
  "nbformat": 4,
  "nbformat_minor": 1
}