{
  "cells": [
    {
      "metadata": {},
      "cell_type": "markdown",
      "source": "# Módulo 1 - Cuál es tu mascota"
    },
    {
      "metadata": {},
      "cell_type": "markdown",
      "source": "En este módulo construiremos nuestro primer clasificador de imágenes desde cero y veremos si podemos lograr resultados de clase mundial.\n\nCada notebook comienza con las siguientes tres líneas; ellas aseguran que las ediciones en las bibliotecas que hagas se vuelvan a cargar aquí automáticamente, y también que se muestren en este notebook todos los cuadros o imágenes."
    },
    {
      "metadata": {
        "trusted": true
      },
      "cell_type": "code",
      "source": "import time\nstart_time = time.time()",
      "execution_count": null,
      "outputs": []
    },
    {
      "metadata": {
        "trusted": true
      },
      "cell_type": "code",
      "source": "!pip install matplotlib",
      "execution_count": null,
      "outputs": []
    },
    {
      "metadata": {
        "trusted": true
      },
      "cell_type": "code",
      "source": "%reload_ext autoreload\n%autoreload 2\n%matplotlib inline",
      "execution_count": null,
      "outputs": []
    },
    {
      "metadata": {},
      "cell_type": "markdown",
      "source": "Importamos todos los paquetes necesarios. Vamos a trabajar con la [biblioteca fastai V1] (http://www.fast.ai/2018/10/02/fastai-ai/) que se encuentra sobre [Pytorch 1.0] (https: // hackernoon. com / pytorch-1-0-468332ba5163). La biblioteca fastai proporciona muchas funciones útiles que nos permiten construir redes neuronales de manera rápida y fácil y entrenar nuestros modelos."
    },
    {
      "metadata": {
        "trusted": true
      },
      "cell_type": "code",
      "source": "from fastai.vision import *\nfrom fastai.metrics import error_rate",
      "execution_count": null,
      "outputs": []
    },
    {
      "metadata": {},
      "cell_type": "markdown",
      "source": "Si estás utilizando una computadora con una GPU inusualmente pequeña, puedes obtener un error de falta de memoria al ejecutar este notebook. Si esto sucede, haz clic en Kernel-> Reiniciar, elimina el comentario de la segunda línea a continuación para usar un *batch size* más pequeño (aprenderás todo sobre lo que esto significa durante el curso) e intenta nuevamente."
    },
    {
      "metadata": {
        "trusted": true
      },
      "cell_type": "code",
      "source": "bs = 64\n# bs = 16   # uncomment this line if you run out of memory even after clicking Kernel->Restart",
      "execution_count": null,
      "outputs": []
    },
    {
      "metadata": {},
      "cell_type": "markdown",
      "source": "## Mirando los datos"
    },
    {
      "metadata": {},
      "cell_type": "markdown",
      "source": "Vamos a utilizar el [Oxford-IIIT Pet Dataset] (http://www.robots.ox.ac.uk/~vgg/data/pets/) por [O. M. Parkhi et al., 2012] (http://www.robots.ox.ac.uk/~vgg/publications/2012/parkhi12a/parkhi12a.pdf) que presenta 12 razas de gatos y 25 razas de perros. Nuestro modelo necesitará aprender a diferenciar entre estas 37 categorías distintas. Según este artículo, la mejor precisión que pudieron obtener en 2012 fue del 59,21%, utilizando un modelo complejo que era específico para la detección de mascotas, con modelos separados de \"Imagen\", \"Cabeza\" y \"Cuerpo\" para las fotos de las mascotas. ¡Veamos qué tan precisos podemos ser usando el aprendizaje profundo (deep learning)!\n\nVamos a utilizar la función `untar_data` a la que debemos pasar una URL como argumento y que descargará y extraerá los datos."
    },
    {
      "metadata": {
        "trusted": true
      },
      "cell_type": "code",
      "source": "help(untar_data)",
      "execution_count": null,
      "outputs": []
    },
    {
      "metadata": {
        "trusted": true
      },
      "cell_type": "code",
      "source": "path = untar_data(URLs.PETS); path",
      "execution_count": null,
      "outputs": []
    },
    {
      "metadata": {
        "trusted": true
      },
      "cell_type": "code",
      "source": "path.ls()",
      "execution_count": null,
      "outputs": []
    },
    {
      "metadata": {
        "trusted": true
      },
      "cell_type": "code",
      "source": "path_anno = path/'annotations'\npath_img = path/'images'",
      "execution_count": null,
      "outputs": []
    },
    {
      "metadata": {},
      "cell_type": "markdown",
      "source": "Lo primero que hacemos cuando nos acercamos a un problema es echar un vistazo a los datos. _Siempre_ debemos entender muy bien cuál es el problema y cómo se ven los datos antes de que podamos descubrir cómo resolverlo. Echar un vistazo a los datos significa comprender cómo están estructurados los directorios de datos, cuáles son las etiquetas y cómo se ven algunas imágenes de muestra.\n\nLa principal diferencia entre el manejo de los conjuntos de datos de clasificación de imágenes es la forma en que se almacenan las etiquetas. En este conjunto de datos en particular, las etiquetas se almacenan en los propios nombres de archivo. Tendremos que extraerlos para poder clasificar las imágenes en las categorías correctas. Afortunadamente, la biblioteca fastai tiene una función práctica hecha exactamente para esto, `ImageDataBunch.from_name_re` obtiene las etiquetas de los nombres de archivo usando una [expresión regular] (https://docs.python.org/3.6/library/re.html).\n\n"
    },
    {
      "metadata": {
        "trusted": true
      },
      "cell_type": "code",
      "source": "fnames = get_image_files(path_img)\nfnames[:5]",
      "execution_count": null,
      "outputs": []
    },
    {
      "metadata": {
        "trusted": true
      },
      "cell_type": "code",
      "source": "np.random.seed(2)\npat = r'/([^/]+)_\\d+.jpg$'",
      "execution_count": null,
      "outputs": []
    },
    {
      "metadata": {
        "trusted": true
      },
      "cell_type": "code",
      "source": "data = ImageDataBunch.from_name_re(path_img, fnames, pat, ds_tfms=get_transforms(), size=224, bs=bs\n                                  ).normalize(imagenet_stats)",
      "execution_count": null,
      "outputs": []
    },
    {
      "metadata": {
        "trusted": true
      },
      "cell_type": "code",
      "source": "data.show_batch(rows=3, figsize=(7,6))",
      "execution_count": null,
      "outputs": []
    },
    {
      "metadata": {
        "trusted": true
      },
      "cell_type": "code",
      "source": "print(data.classes)\nlen(data.classes),data.c",
      "execution_count": null,
      "outputs": []
    },
    {
      "metadata": {},
      "cell_type": "markdown",
      "source": "## Entrenamiento: resnet34"
    },
    {
      "metadata": {},
      "cell_type": "markdown",
      "source": "Ahora comenzaremos a entrenar nuestro modelo. Usaremos una [red neuronal convolucional] (http://cs231n.github.io/convolutional-networks/) troncal y un cabezal completamente conectado con una sola capa oculta como clasificador. ¿No sabes lo que significan estas cosas? No te preocupes, profundizaremos en los próximos módulos. Por el momento, necesitas saber que estamos construyendo un modelo que tomará imágenes como entrada y generará la probabilidad predicha para cada una de las categorías (en este caso, tendrá 37 salidas).\n\nEntrenaremos durante 4 épocas (4 ciclos a través de todos nuestros datos)."
    },
    {
      "metadata": {
        "trusted": true
      },
      "cell_type": "code",
      "source": "learn = cnn_learner(data, models.resnet34, metrics=error_rate)",
      "execution_count": null,
      "outputs": []
    },
    {
      "metadata": {
        "trusted": true
      },
      "cell_type": "code",
      "source": "learn.model",
      "execution_count": null,
      "outputs": []
    },
    {
      "metadata": {
        "trusted": true
      },
      "cell_type": "code",
      "source": "learn.fit_one_cycle(4)",
      "execution_count": null,
      "outputs": []
    },
    {
      "metadata": {
        "trusted": true
      },
      "cell_type": "code",
      "source": "learn.save('stage-1')",
      "execution_count": null,
      "outputs": []
    },
    {
      "metadata": {},
      "cell_type": "markdown",
      "source": "## Resultados"
    },
    {
      "metadata": {},
      "cell_type": "markdown",
      "source": "Veamos qué resultados tenemos.\n\nPrimero veremos cuáles fueron las categorías que el modelo confundió más entre sí. Intentaremos ver si lo que predijo el modelo fue razonable o no. En este caso, los errores parecen razonables (ninguno de los errores parece obviamente ingenuo). Este es un indicador de que nuestro clasificador funciona correctamente.\n\nAdemás, cuando graficamos la matriz de confusión, podemos ver que la distribución está muy sesgada: el modelo comete los mismos errores una y otra vez, pero rara vez confunde otras categorías. Esto sugiere que solo le resulta difícil distinguir algunas categorías específicas entre sí; Este es un comportamiento normal."
    },
    {
      "metadata": {
        "trusted": true
      },
      "cell_type": "code",
      "source": "interp = ClassificationInterpretation.from_learner(learn)\n\nlosses,idxs = interp.top_losses()\n\nlen(data.valid_ds)==len(losses)==len(idxs)",
      "execution_count": null,
      "outputs": []
    },
    {
      "metadata": {
        "trusted": true
      },
      "cell_type": "code",
      "source": "interp.plot_top_losses(9, figsize=(15,11))",
      "execution_count": null,
      "outputs": []
    },
    {
      "metadata": {
        "trusted": true
      },
      "cell_type": "code",
      "source": "doc(interp.plot_top_losses)",
      "execution_count": null,
      "outputs": []
    },
    {
      "metadata": {
        "trusted": true
      },
      "cell_type": "code",
      "source": "interp.plot_confusion_matrix(figsize=(12,12), dpi=60)",
      "execution_count": null,
      "outputs": []
    },
    {
      "metadata": {
        "trusted": true
      },
      "cell_type": "code",
      "source": "interp.most_confused(min_val=2)",
      "execution_count": null,
      "outputs": []
    },
    {
      "metadata": {},
      "cell_type": "markdown",
      "source": "## Descongelación, puesta a punto y tasas de aprendizaje"
    },
    {
      "metadata": {},
      "cell_type": "markdown",
      "source": "Dado que nuestro modelo funciona como esperamos, *descongelaremos* nuestro modelo y entrenaremos un poco más."
    },
    {
      "metadata": {
        "trusted": true
      },
      "cell_type": "code",
      "source": "learn.unfreeze()",
      "execution_count": null,
      "outputs": []
    },
    {
      "metadata": {
        "trusted": true
      },
      "cell_type": "code",
      "source": "learn.fit_one_cycle(1)",
      "execution_count": null,
      "outputs": []
    },
    {
      "metadata": {
        "trusted": true
      },
      "cell_type": "code",
      "source": "learn.load('stage-1');",
      "execution_count": null,
      "outputs": []
    },
    {
      "metadata": {
        "trusted": true
      },
      "cell_type": "code",
      "source": "learn.lr_find()",
      "execution_count": null,
      "outputs": []
    },
    {
      "metadata": {
        "trusted": true
      },
      "cell_type": "code",
      "source": "learn.recorder.plot()",
      "execution_count": null,
      "outputs": []
    },
    {
      "metadata": {
        "trusted": true
      },
      "cell_type": "code",
      "source": "learn.unfreeze()\nlearn.fit_one_cycle(2, max_lr=slice(1e-6,1e-4))",
      "execution_count": null,
      "outputs": []
    },
    {
      "metadata": {},
      "cell_type": "markdown",
      "source": "That's a pretty accurate model!"
    },
    {
      "metadata": {},
      "cell_type": "markdown",
      "source": "## Entrenamiento: resnet50"
    },
    {
      "metadata": {},
      "cell_type": "markdown",
      "source": "Ahora entrenaremos de la misma manera que antes pero con una advertencia: en lugar de usar resnet34 como nuestra red troncal, usaremos resnet50 (resnet34 es una red residual de 34 capas mientras que resnet50 tiene 50 capas. Se explicará más adelante en el curso y puedes conocer los detalles en el [documento de resnet] (https://arxiv.org/pdf/1512.03385.pdf)).\n\nBásicamente, resnet50 generalmente funciona mejor porque es una red más profunda con más parámetros. Veamos si podemos lograr un mayor rendimiento aquí. Para ayudar a la red, también usaremos imágenes más grandes, ya que de esa manera la red puede ver más detalles. Reducimos un poco el tamaño del lote, ya que de lo contrario esta red más grande requerirá más memoria de GPU."
    },
    {
      "metadata": {
        "trusted": true
      },
      "cell_type": "code",
      "source": "data = ImageDataBunch.from_name_re(path_img, fnames, pat, ds_tfms=get_transforms(),\n                                   size=299, bs=bs//2).normalize(imagenet_stats)",
      "execution_count": null,
      "outputs": []
    },
    {
      "metadata": {
        "trusted": true
      },
      "cell_type": "code",
      "source": "learn = cnn_learner(data, models.resnet50, metrics=error_rate)",
      "execution_count": null,
      "outputs": []
    },
    {
      "metadata": {
        "trusted": true
      },
      "cell_type": "code",
      "source": "learn.lr_find()\nlearn.recorder.plot()",
      "execution_count": null,
      "outputs": []
    },
    {
      "metadata": {
        "trusted": true
      },
      "cell_type": "code",
      "source": "learn.fit_one_cycle(8)",
      "execution_count": null,
      "outputs": []
    },
    {
      "metadata": {
        "trusted": true
      },
      "cell_type": "code",
      "source": "learn.save('stage-1-50')",
      "execution_count": null,
      "outputs": []
    },
    {
      "metadata": {},
      "cell_type": "markdown",
      "source": "¡Es sorprendente que sea posible reconocer las razas de mascotas con tanta precisión! Veamos si el ajuste completo ayuda:"
    },
    {
      "metadata": {
        "trusted": true
      },
      "cell_type": "code",
      "source": "learn.unfreeze()\nlearn.fit_one_cycle(3, max_lr=slice(1e-6,1e-4))",
      "execution_count": null,
      "outputs": []
    },
    {
      "metadata": {},
      "cell_type": "markdown",
      "source": "Si no es así, siempre puedes volver a tu modelo anterior."
    },
    {
      "metadata": {
        "trusted": true
      },
      "cell_type": "code",
      "source": "learn.load('stage-1-50');",
      "execution_count": null,
      "outputs": []
    },
    {
      "metadata": {
        "trusted": true
      },
      "cell_type": "code",
      "source": "interp = ClassificationInterpretation.from_learner(learn)",
      "execution_count": null,
      "outputs": []
    },
    {
      "metadata": {
        "trusted": true
      },
      "cell_type": "code",
      "source": "interp.most_confused(min_val=2)",
      "execution_count": null,
      "outputs": []
    },
    {
      "metadata": {},
      "cell_type": "markdown",
      "source": "## Otros formatos de datos"
    },
    {
      "metadata": {
        "trusted": true
      },
      "cell_type": "code",
      "source": "path = untar_data(URLs.MNIST_SAMPLE); path",
      "execution_count": null,
      "outputs": []
    },
    {
      "metadata": {
        "trusted": true
      },
      "cell_type": "code",
      "source": "tfms = get_transforms(do_flip=False)\ndata = ImageDataBunch.from_folder(path, ds_tfms=tfms, size=26)",
      "execution_count": null,
      "outputs": []
    },
    {
      "metadata": {
        "trusted": true
      },
      "cell_type": "code",
      "source": "data.show_batch(rows=3, figsize=(5,5))",
      "execution_count": null,
      "outputs": []
    },
    {
      "metadata": {
        "trusted": true
      },
      "cell_type": "code",
      "source": "learn = cnn_learner(data, models.resnet18, metrics=accuracy)\nlearn.fit(2)",
      "execution_count": null,
      "outputs": []
    },
    {
      "metadata": {
        "trusted": true
      },
      "cell_type": "code",
      "source": "df = pd.read_csv(path/'labels.csv')\ndf.head()",
      "execution_count": null,
      "outputs": []
    },
    {
      "metadata": {
        "trusted": true
      },
      "cell_type": "code",
      "source": "data = ImageDataBunch.from_csv(path, ds_tfms=tfms, size=28)",
      "execution_count": null,
      "outputs": []
    },
    {
      "metadata": {
        "trusted": true
      },
      "cell_type": "code",
      "source": "data.show_batch(rows=3, figsize=(5,5))\ndata.classes",
      "execution_count": null,
      "outputs": []
    },
    {
      "metadata": {
        "trusted": true
      },
      "cell_type": "code",
      "source": "data = ImageDataBunch.from_df(path, df, ds_tfms=tfms, size=24)\ndata.classes",
      "execution_count": null,
      "outputs": []
    },
    {
      "metadata": {
        "trusted": true
      },
      "cell_type": "code",
      "source": "fn_paths = [path/name for name in df['name']]; fn_paths[:2]",
      "execution_count": null,
      "outputs": []
    },
    {
      "metadata": {
        "trusted": true
      },
      "cell_type": "code",
      "source": "pat = r\"/(\\d)/\\d+\\.png$\"\ndata = ImageDataBunch.from_name_re(path, fn_paths, pat=pat, ds_tfms=tfms, size=24)\ndata.classes",
      "execution_count": null,
      "outputs": []
    },
    {
      "metadata": {
        "trusted": true
      },
      "cell_type": "code",
      "source": "data = ImageDataBunch.from_name_func(path, fn_paths, ds_tfms=tfms, size=24,\n        label_func = lambda x: '3' if '/3/' in str(x) else '7')\ndata.classes",
      "execution_count": null,
      "outputs": []
    },
    {
      "metadata": {
        "trusted": true
      },
      "cell_type": "code",
      "source": "labels = [('3' if '/3/' in str(x) else '7') for x in fn_paths]\nlabels[:5]",
      "execution_count": null,
      "outputs": []
    },
    {
      "metadata": {
        "trusted": true
      },
      "cell_type": "code",
      "source": "data = ImageDataBunch.from_lists(path, fn_paths, labels=labels, ds_tfms=tfms, size=24)\ndata.classes",
      "execution_count": null,
      "outputs": []
    },
    {
      "metadata": {
        "trusted": true
      },
      "cell_type": "code",
      "source": "",
      "execution_count": null,
      "outputs": []
    },
    {
      "metadata": {
        "trusted": true
      },
      "cell_type": "code",
      "source": "elapsed_time = time.time() - start_time\nprint(elapsed_time)",
      "execution_count": null,
      "outputs": []
    }
  ],
  "metadata": {
    "kernelspec": {
      "name": "python3-azureml",
      "display_name": "Python 3.6 - AzureML",
      "language": "python"
    },
    "language_info": {
      "version": "3.6.8",
      "nbconvert_exporter": "python",
      "pygments_lexer": "ipython3",
      "file_extension": ".py",
      "codemirror_mode": {
        "version": 3,
        "name": "ipython"
      },
      "name": "python",
      "mimetype": "text/x-python"
    }
  },
  "nbformat": 4,
  "nbformat_minor": 2
}