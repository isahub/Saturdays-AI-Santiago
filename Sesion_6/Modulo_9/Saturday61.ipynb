{
  "cells": [
    {
      "metadata": {},
      "cell_type": "markdown",
      "source": "# Creando tu propio DataSet desde Google Imagenes\n*by: Francisco Ingham and Jeremy Howard. Inspired by [Adrian Rosebrock](https://www.pyimagesearch.com/2017/12/04/how-to-create-a-deep-learning-dataset-using-google-images/)*m"
    },
    {
      "metadata": {},
      "cell_type": "markdown",
      "source": "en este turotial veremos como facilmente crear un dataset de imagenes de  Google. \n**Nota**: Puedes repetir estos pasos para cualquier categoria que quieras clasificar "
    },
    {
      "metadata": {
        "trusted": true
      },
      "cell_type": "code",
      "source": "from fastai.vision import *",
      "execution_count": null,
      "outputs": []
    },
    {
      "metadata": {},
      "cell_type": "markdown",
      "source": "## Obtener una lista de URLs"
    },
    {
      "metadata": {},
      "cell_type": "markdown",
      "source": "### Busca y Navega"
    },
    {
      "metadata": {},
      "cell_type": "markdown",
      "source": "Ir a [Google Images](http://images.google.com) y busca las imagenes en las cuales estas interesado. se específico en la busqueda de Google, obtendras mejores resultados y menos trabajo manual tienes que hacer.\n\nSelecciona todas las imagenes que quieras bajar, o hasta ver un boton que dice 'mostrar mas resultados'. Todas las imagenes seleccionadas estan disponibles para bajar. Para obtener mas, click en el boton, y continua seleccionando. El número máximo de imagenes que Google muestra es 700.\n\nEs una buena idea poner cosas que quieras excluir, Por ejemplo: si estas interesado en  Eurasian wolf, \"canis lupus lupus\", seria una buena idea excluir otros variantes:\n\n    \"canis lupus lupus\" -dog -arctos -familiaris -baileyi -occidentalis\n\ntambien puedes limitar tus resultados para mostrar sol fotos haciendo click en Herramientas y seleccionando Imagenes."
    },
    {
      "metadata": {},
      "cell_type": "markdown",
      "source": "### Bajar a un archivo"
    },
    {
      "metadata": {},
      "cell_type": "markdown",
      "source": "Ahora debes ejecutar un codigo Javascript en tu explorador el cual grabara todas las URLs de todas las imagenes que quieres en tu dataset.\n\npresiona <kbd>Ctrl</kbd><kbd>Shift</kbd><kbd>J</kbd> en Windows/Linux y <kbd>Cmd</kbd><kbd>Opt</kbd><kbd>J</kbd> en Mac, y una pequeña consola javascript aparecera. aca es donde puedes pegar tus comandos Javascript.\n\nNecesitas las urls de lada una de las imagenes. Antes de ejecutar el siguiente comando, podrias querer deshabilitar y bloquear alguna extenciones (uBlock, AdBlockPlus etc.) en Chrome. de otra manera el comando window.open() no funcionara . Ahora basta ejecutar el siguiente comando:\n\n```javascript\nurls = Array.from(document.querySelectorAll('.rg_di .rg_meta')).map(el=>JSON.parse(el.textContent).ou);\nwindow.open('data:text/csv;charset=utf-8,' + escape(urls.join('\\n')));"
    },
    {
      "metadata": {},
      "cell_type": "markdown",
      "source": "### Crea un directorio y sube las URL"
    },
    {
      "metadata": {},
      "cell_type": "markdown",
      "source": "Elige un nombre apropiado para tus imagenes etiquetadas. Puedes ejecutar esto multiples veces y crear etiquetas.\n\nLos comandos siguientes deben ser ejecutados para cada categoria."
    },
    {
      "metadata": {
        "trusted": true
      },
      "cell_type": "code",
      "source": "folder = 'grizzly'\nfile = 'urls_grizzly.csv'",
      "execution_count": null,
      "outputs": []
    },
    {
      "metadata": {
        "trusted": true
      },
      "cell_type": "code",
      "source": "path = Path('data/bears')\ndest = path/folder\ndest.mkdir(parents=True, exist_ok=True)",
      "execution_count": null,
      "outputs": []
    },
    {
      "metadata": {
        "trusted": true
      },
      "cell_type": "code",
      "source": "path.ls()",
      "execution_count": null,
      "outputs": []
    },
    {
      "metadata": {},
      "cell_type": "markdown",
      "source": "Finalmente, Solo necesitas presionar  'Upload' en tu directorio de trabajo y seleccionar tu archivo, Click en 'Upload' para cada uno de los archivos.\n\n![imagen](images/download_images/upload.png)"
    },
    {
      "metadata": {},
      "cell_type": "markdown",
      "source": "## Bajar las imagenes"
    },
    {
      "metadata": {},
      "cell_type": "markdown",
      "source": "Ahora bajaran las imagenes de sus respectivas urls.\n\nfast.ai tiene una funcion que permite que tu hagas esto. Solo debes especificar las urls tambien como la ruta destino y esta buncion bajará y guardara todas las imagenes que puedan ser abiertas. Si ellas tienen algún problema de apeertura, ellas no serán grabadas.\n\nBajemos tus imagenes! Nota que puedes elegir un máximo de imagenes a bajar. En este caso no bajaremos todas las urls.\n\nDebes ejecutar esta linea para cada categoría."
    },
    {
      "metadata": {
        "trusted": true
      },
      "cell_type": "code",
      "source": "classes = ['teddys','grizzly','black']",
      "execution_count": null,
      "outputs": []
    },
    {
      "metadata": {
        "trusted": true
      },
      "cell_type": "code",
      "source": "download_images(path/file, dest, max_pics=200)",
      "execution_count": null,
      "outputs": []
    },
    {
      "metadata": {},
      "cell_type": "markdown",
      "source": "Ahora podemos remover las imagenes que no pueden ser abiertas:"
    },
    {
      "metadata": {
        "trusted": true
      },
      "cell_type": "code",
      "source": "for c in classes:\n    print(c)\n    verify_images(path/c, delete=True, max_size=500)",
      "execution_count": null,
      "outputs": []
    },
    {
      "metadata": {},
      "cell_type": "markdown",
      "source": "## Revisemos la data"
    },
    {
      "metadata": {
        "trusted": true
      },
      "cell_type": "code",
      "source": "np.random.seed(42)\ndata = ImageDataBunch.from_folder(path, train=\".\", valid_pct=0.2,\n        ds_tfms=get_transforms(), size=224, num_workers=4).normalize(imagenet_stats)",
      "execution_count": null,
      "outputs": []
    },
    {
      "metadata": {
        "trusted": true
      },
      "cell_type": "code",
      "source": "data.classes",
      "execution_count": null,
      "outputs": []
    },
    {
      "metadata": {
        "trusted": true
      },
      "cell_type": "code",
      "source": "data.show_batch(rows=3, figsize=(7,8))",
      "execution_count": null,
      "outputs": []
    },
    {
      "metadata": {
        "trusted": true
      },
      "cell_type": "code",
      "source": "data.classes, data.c, len(data.train_ds), len(data.valid_ds)",
      "execution_count": null,
      "outputs": []
    },
    {
      "metadata": {},
      "cell_type": "markdown",
      "source": "## Entrenemos el modelo"
    },
    {
      "metadata": {
        "trusted": true
      },
      "cell_type": "code",
      "source": "learn = cnn_learner(data, models.resnet34, metrics=error_rate)",
      "execution_count": null,
      "outputs": []
    },
    {
      "metadata": {
        "trusted": true,
        "scrolled": true
      },
      "cell_type": "code",
      "source": "learn.fit_one_cycle(4)",
      "execution_count": null,
      "outputs": []
    },
    {
      "metadata": {
        "trusted": true
      },
      "cell_type": "code",
      "source": "learn.save('stage-1')",
      "execution_count": null,
      "outputs": []
    },
    {
      "metadata": {
        "trusted": true
      },
      "cell_type": "code",
      "source": "learn.unfreeze()",
      "execution_count": null,
      "outputs": []
    },
    {
      "metadata": {
        "trusted": true
      },
      "cell_type": "code",
      "source": "learn.lr_find()",
      "execution_count": null,
      "outputs": []
    },
    {
      "metadata": {
        "trusted": true
      },
      "cell_type": "code",
      "source": "# Si el grafico no esta mostrando resultados definamos start|end learning rate\n# learn.lr_find(start_lr=1e-5, end_lr=1e-1)\nlearn.recorder.plot()",
      "execution_count": null,
      "outputs": []
    },
    {
      "metadata": {
        "trusted": true
      },
      "cell_type": "code",
      "source": "learn.fit_one_cycle(2, max_lr=slice(3e-5,3e-4))",
      "execution_count": null,
      "outputs": []
    },
    {
      "metadata": {
        "trusted": true
      },
      "cell_type": "code",
      "source": "learn.save('stage-2')",
      "execution_count": null,
      "outputs": []
    },
    {
      "metadata": {},
      "cell_type": "markdown",
      "source": "## Interpretación"
    },
    {
      "metadata": {
        "trusted": true
      },
      "cell_type": "code",
      "source": "learn.load('stage-2');",
      "execution_count": null,
      "outputs": []
    },
    {
      "metadata": {
        "trusted": true
      },
      "cell_type": "code",
      "source": "interp = ClassificationInterpretation.from_learner(learn)",
      "execution_count": null,
      "outputs": []
    },
    {
      "metadata": {
        "trusted": true
      },
      "cell_type": "code",
      "source": "interp.plot_confusion_matrix()",
      "execution_count": null,
      "outputs": []
    },
    {
      "metadata": {},
      "cell_type": "markdown",
      "source": "## Limpieza\n\nLos errores No se deben a mala calidad de nuestro modelo. Hay imagenes que no deberian estar.\n\nUtilizando `ImageCleaner` widget desde `fastai.widgets` Podemos eliminar, Remover fotos ue no pertenecen a las categorias."
    },
    {
      "metadata": {
        "trusted": true
      },
      "cell_type": "code",
      "source": "from fastai.widgets import *",
      "execution_count": null,
      "outputs": []
    },
    {
      "metadata": {},
      "cell_type": "markdown",
      "source": "Primero necesitamos ubicar estas imagness. Utilicemos `.from_toplosses`. Entonces podemos indexar las \"malas imagenes\" a la función  `ImageCleaner`.\n\nlas imagenes no serán borradas directamente del disco, secreara un nuevo archivo csv  `cleaned.csv` de donde se creara un nuevo grupo de imagenes etiquetadas de forma correcta y seguir entrenando el modelo."
    },
    {
      "metadata": {},
      "cell_type": "markdown",
      "source": "Para limpiar un set completo de imagenes, Necesitamos crear un nuevo set de datos Sin la división. "
    },
    {
      "metadata": {
        "trusted": true
      },
      "cell_type": "code",
      "source": "db = (ImageList.from_folder(path)\n                   .split_none()\n                   .label_from_folder()\n                   .transform(get_transforms(), size=224)\n                   .databunch()\n     )",
      "execution_count": null,
      "outputs": []
    },
    {
      "metadata": {
        "trusted": true
      },
      "cell_type": "code",
      "source": "# Si la data ya esta limpia utilizando `from_toplosses`,\n# Ejecuta esta celda en vez de la anterior y procede a la eliminación de duplicados.\n# Todos los resultados del paso anteriroo pueden ser sobreescritos\n# con ek nuevo `ImageCleaner`.\n\n# db = (ImageList.from_csv(path, 'cleaned.csv', folder='.')\n#                    .no_split()\n#                    .label_from_df()\n#                    .transform(get_transforms(), size=224)\n#                    .databunch()\n#      )",
      "execution_count": null,
      "outputs": []
    },
    {
      "metadata": {},
      "cell_type": "markdown",
      "source": "Creemos un nuevo modelo utilizando el nuevo databunch con todas las imagenes."
    },
    {
      "metadata": {
        "trusted": true
      },
      "cell_type": "code",
      "source": "learn_cln = cnn_learner(db, models.resnet34, metrics=error_rate)\n\nlearn_cln.load('stage-2');",
      "execution_count": null,
      "outputs": []
    },
    {
      "metadata": {
        "trusted": true
      },
      "cell_type": "code",
      "source": "ds, idxs = DatasetFormatter().from_toplosses(learn_cln)",
      "execution_count": null,
      "outputs": []
    },
    {
      "metadata": {},
      "cell_type": "markdown",
      "source": "Asegurate que estes ejecutando esto en Jupyter Notebook, no Jupyter Lab. Accesible via [/tree](/tree), no [/lab](/lab). Ejecutar `ImageCleaner` en Jupyter Lab no esta soportado [not currently supported](https://github.com/fastai/fastai/issues/1539)."
    },
    {
      "metadata": {
        "trusted": true
      },
      "cell_type": "code",
      "source": "# No ejecutar en google colab o otra instancia de jupyter lab.\n# Si ejecutas en Jupyter Lab, necesitas reiniciar tu instancia\n# Todas laas variables se perderan.\nImageCleaner(ds, idxs, path)",
      "execution_count": null,
      "outputs": []
    },
    {
      "metadata": {},
      "cell_type": "markdown",
      "source": "Si el codigo anterior no muestra GUI(Conteniendo imagenes y botones), revisar las configuraciones \"ipywidgets\". Trata la solución en el siguiente link.\n\nEtiqueta fotos para borrar presionando 'Delete'. Luego pincha 'Next Batch' para borrar las etiquetadas y mantener el resto. ImageCleaner mostrara una nueva fila de imagenes. En este caso, El widget mostrara imagenes hasta que no hayan mas en top_losses.ImageCleaner(ds, idxs)\n\nYPuedes encontrar duplicadas y eliminarlas! Para hacer esto, necesitas ejecutar .from_similars para obtener potenciales duplicados ids y ejecuta ImageCleaner con duplicates=True. la API funciona igual que con imagenes mal clasificadas: solo selecciona las que quieres eliminar.\n\nAsegurate de crear el databunch y learn_cln desde el archivo cleaned.csv. de otra forma el archivo podría ser sobreesrito desde cero, perdiendo todos los resultados obtenidos."
    },
    {
      "metadata": {
        "trusted": true
      },
      "cell_type": "code",
      "source": "ds, idxs = DatasetFormatter().from_similars(learn_cln)",
      "execution_count": null,
      "outputs": []
    },
    {
      "metadata": {},
      "cell_type": "markdown",
      "source": "Recuerda recrear ImageDataBunch desde `cleaned.csv` Para incluir los cambios en la Data"
    },
    {
      "metadata": {},
      "cell_type": "markdown",
      "source": "## Poniendo el modelo en producción"
    },
    {
      "metadata": {},
      "cell_type": "markdown",
      "source": "Primero, Exportemos el contenido del objeto `Learner` en producción:"
    },
    {
      "metadata": {
        "trusted": true
      },
      "cell_type": "code",
      "source": "efaults.device = torch.device('cpu')",
      "execution_count": null,
      "outputs": []
    },
    {
      "metadata": {
        "trusted": true
      },
      "cell_type": "code",
      "source": "img = open_image(path/'black'/'00000004.jpg')\nimg",
      "execution_count": null,
      "outputs": []
    },
    {
      "metadata": {},
      "cell_type": "markdown",
      "source": "Ahora creemos nuestro `Learner` en un ambiente productivo, solo asegurar que el  `path` contiene el archivo 'export.pkl'."
    },
    {
      "metadata": {
        "trusted": true
      },
      "cell_type": "code",
      "source": "learn = load_learner(path)",
      "execution_count": null,
      "outputs": []
    },
    {
      "metadata": {
        "trusted": true
      },
      "cell_type": "code",
      "source": "pred_class,pred_idx,outputs = learn.predict(img)\npred_class",
      "execution_count": null,
      "outputs": []
    },
    {
      "metadata": {},
      "cell_type": "markdown",
      "source": "hora podemos crear una ruta como esta ([thanks](https://github.com/simonw/cougar-or-not) to Simon Willison for the structure of this code):\n\n```python\n@app.route(\"/classify-url\", methods=[\"GET\"])\nasync def classify_url(request):\n    bytes = await get_bytes(request.query_params[\"url\"])\n    img = open_image(BytesIO(bytes))\n    _,_,losses = learner.predict(img)\n    return JSONResponse({\n        \"predictions\": sorted(\n            zip(cat_learner.data.classes, map(float, losses)),\n            key=lambda p: p[1],\n            reverse=True\n        )\n    })\n```\n\n(Este ejemplo es para [Starlette](https://www.starlette.io/) web app toolkit.)"
    },
    {
      "metadata": {},
      "cell_type": "markdown",
      "source": "## Posibles Errores\n- La mayoria de las veces las cosas se entrenaran bien con defaults\n- no hay mucho que \"Tunear\"\n- La mayoria es\n  - Learning rate\n  - Number of epochs"
    },
    {
      "metadata": {},
      "cell_type": "markdown",
      "source": "### Learning rate (LR) Demasiado alta"
    },
    {
      "metadata": {
        "trusted": true
      },
      "cell_type": "code",
      "source": "learn = cnn_learner(data, models.resnet34, metrics=error_rate)",
      "execution_count": null,
      "outputs": []
    },
    {
      "metadata": {
        "trusted": true
      },
      "cell_type": "code",
      "source": "learn.fit_one_cycle(1, max_lr=0.5)",
      "execution_count": null,
      "outputs": []
    },
    {
      "metadata": {},
      "cell_type": "markdown",
      "source": "### Learning rate (LR) demasiado baja"
    },
    {
      "metadata": {
        "trusted": true
      },
      "cell_type": "code",
      "source": "learn = cnn_learner(data, models.resnet34, metrics=error_rate)",
      "execution_count": null,
      "outputs": []
    },
    {
      "metadata": {
        "trusted": true
      },
      "cell_type": "code",
      "source": "learn.fit_one_cycle(5, max_lr=1e-5)",
      "execution_count": null,
      "outputs": []
    },
    {
      "metadata": {
        "trusted": true
      },
      "cell_type": "code",
      "source": "learn.recorder.plot_losses()",
      "execution_count": null,
      "outputs": []
    },
    {
      "metadata": {},
      "cell_type": "markdown",
      "source": "Esto toma mucho tiempo, Esta tomando mucho tiempo en cada imagen, Puede ser Sobreentrenamiento."
    },
    {
      "metadata": {},
      "cell_type": "markdown",
      "source": "### Pocos epochs"
    },
    {
      "metadata": {
        "trusted": true
      },
      "cell_type": "code",
      "source": "learn = cnn_learner(data, models.resnet34, metrics=error_rate, pretrained=False)",
      "execution_count": null,
      "outputs": []
    },
    {
      "metadata": {
        "trusted": true
      },
      "cell_type": "code",
      "source": "learn.fit_one_cycle(1)",
      "execution_count": null,
      "outputs": []
    },
    {
      "metadata": {},
      "cell_type": "markdown",
      "source": "### Muchos epochs"
    },
    {
      "metadata": {
        "trusted": true
      },
      "cell_type": "code",
      "source": "np.random.seed(42)\ndata = ImageDataBunch.from_folder(path, train=\".\", valid_pct=0.9, bs=32, \n        ds_tfms=get_transforms(do_flip=False, max_rotate=0, max_zoom=1, max_lighting=0, max_warp=0\n                              ),size=224, num_workers=4).normalize(imagenet_stats)",
      "execution_count": null,
      "outputs": []
    },
    {
      "metadata": {
        "trusted": true
      },
      "cell_type": "code",
      "source": "learn = cnn_learner(data, models.resnet50, metrics=error_rate, ps=0, wd=0)\nlearn.unfreeze()",
      "execution_count": null,
      "outputs": []
    },
    {
      "metadata": {
        "trusted": true
      },
      "cell_type": "code",
      "source": "learn.fit_one_cycle(40, slice(1e-6,1e-4))",
      "execution_count": null,
      "outputs": []
    },
    {
      "metadata": {
        "trusted": true
      },
      "cell_type": "code",
      "source": "",
      "execution_count": null,
      "outputs": []
    }
  ],
  "metadata": {
    "kernelspec": {
      "name": "python3-azureml",
      "display_name": "Python 3.6 - AzureML",
      "language": "python"
    },
    "language_info": {
      "version": "3.6.8",
      "nbconvert_exporter": "python",
      "pygments_lexer": "ipython3",
      "file_extension": ".py",
      "codemirror_mode": {
        "version": 3,
        "name": "ipython"
      },
      "name": "python",
      "mimetype": "text/x-python"
    }
  },
  "nbformat": 4,
  "nbformat_minor": 1
}