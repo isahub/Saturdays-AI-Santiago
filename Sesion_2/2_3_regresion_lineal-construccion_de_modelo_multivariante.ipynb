{
  "cells": [
    {
      "metadata": {
        "colab_type": "text",
        "id": "wRZGtAg1qE5R"
      },
      "cell_type": "markdown",
      "source": "# Construir una Regresión Multivariada\n\n\nLa primera regresión que construimos fue una regresión univariada, lo que significa que teníamos una variable independiente, que en este caso era 'loan_amount' (Monto del préstamo). Nuestra regresión lineal demostró que, en general, cuantos más prestamistas mayor es el monto del préstamo. \n\nAhora usemos las otras variables en nuestros datos y veamos cuáles tienen una fuerte relación lineal con loan_amount."
    },
    {
      "metadata": {
        "colab": {},
        "colab_type": "code",
        "id": "L_ll5Du6qE5T",
        "trusted": true
      },
      "cell_type": "code",
      "source": "# Cargando paquetes\nimport matplotlib.pyplot as plt\n%matplotlib inline\nimport numpy as np\nimport pandas as pd\nimport seaborn as sns\nplt.rcParams['figure.figsize'] = (12, 8)\nsns.set()\nsns.set(font_scale=1.5)\n\n# Paquetes para validar supuestos\nfrom scipy import stats as stats\nfrom sklearn.model_selection import train_test_split, cross_val_score\nfrom sklearn.linear_model import LinearRegression\nfrom sklearn.metrics import mean_squared_error, make_scorer\n#import statsmodels.formula.api as sm\nimport statsmodels.api as sm",
      "execution_count": null,
      "outputs": []
    },
    {
      "metadata": {
        "colab_type": "text",
        "id": "IDlYNNUVqE5W"
      },
      "cell_type": "markdown",
      "source": "2) Carga de Data\n---"
    },
    {
      "metadata": {
        "trusted": true
      },
      "cell_type": "code",
      "source": "# Cargamos los datos guardados de forma local\npath = '../data/'\nfilename = 'loans.csv'\ndf = pd.read_csv(path+filename)",
      "execution_count": null,
      "outputs": []
    },
    {
      "metadata": {
        "colab": {
          "base_uri": "https://localhost:8080/",
          "height": 33
        },
        "colab_type": "code",
        "executionInfo": {
          "elapsed": 2416,
          "status": "ok",
          "timestamp": 1562725069189,
          "user": {
            "displayName": "Miguel Rivera S",
            "photoUrl": "https://lh4.googleusercontent.com/-q9Yvxc5eH4o/AAAAAAAAAAI/AAAAAAAAAIU/GmARyV7G9qw/s64/photo.jpg",
            "userId": "11429972115989356177"
          },
          "user_tz": 240
        },
        "id": "lHRH0aGuqE5a",
        "outputId": "05a88dcf-95eb-4e0e-a15b-7ce43a704c24",
        "trusted": true
      },
      "cell_type": "code",
      "source": "# Alternativamente podemos obtener la data clonando el repositorio de Delta Analytics\n!git clone https://github.com/DeltaAnalytics/machine_learning_for_good_data\ndf = pd.read_csv(\"machine_learning_for_good_data/loans.csv\")",
      "execution_count": null,
      "outputs": []
    },
    {
      "metadata": {
        "trusted": true
      },
      "cell_type": "code",
      "source": "df.columns",
      "execution_count": null,
      "outputs": []
    },
    {
      "metadata": {
        "colab": {
          "base_uri": "https://localhost:8080/",
          "height": 201
        },
        "colab_type": "code",
        "executionInfo": {
          "elapsed": 2398,
          "status": "ok",
          "timestamp": 1562725069191,
          "user": {
            "displayName": "Miguel Rivera S",
            "photoUrl": "https://lh4.googleusercontent.com/-q9Yvxc5eH4o/AAAAAAAAAAI/AAAAAAAAAIU/GmARyV7G9qw/s64/photo.jpg",
            "userId": "11429972115989356177"
          },
          "user_tz": 240
        },
        "id": "9HCJFvroqE5d",
        "outputId": "e63b1510-146c-48e8-b70e-96816fe282c0",
        "trusted": true
      },
      "cell_type": "code",
      "source": "df.columns.tolist()",
      "execution_count": null,
      "outputs": []
    },
    {
      "metadata": {
        "colab": {
          "base_uri": "https://localhost:8080/",
          "height": 196
        },
        "colab_type": "code",
        "executionInfo": {
          "elapsed": 2664,
          "status": "ok",
          "timestamp": 1562725069471,
          "user": {
            "displayName": "Miguel Rivera S",
            "photoUrl": "https://lh4.googleusercontent.com/-q9Yvxc5eH4o/AAAAAAAAAAI/AAAAAAAAAIU/GmARyV7G9qw/s64/photo.jpg",
            "userId": "11429972115989356177"
          },
          "user_tz": 240
        },
        "id": "OXK9gNweqE5i",
        "outputId": "cbe4716c-1bfa-46d4-929a-ae47cf030a9f",
        "trusted": true
      },
      "cell_type": "code",
      "source": "# exploramos nuestra data\ndf.head()",
      "execution_count": null,
      "outputs": []
    },
    {
      "metadata": {
        "colab": {
          "base_uri": "https://localhost:8080/",
          "height": 217
        },
        "colab_type": "code",
        "executionInfo": {
          "elapsed": 2650,
          "status": "ok",
          "timestamp": 1562725069473,
          "user": {
            "displayName": "Miguel Rivera S",
            "photoUrl": "https://lh4.googleusercontent.com/-q9Yvxc5eH4o/AAAAAAAAAAI/AAAAAAAAAIU/GmARyV7G9qw/s64/photo.jpg",
            "userId": "11429972115989356177"
          },
          "user_tz": 240
        },
        "id": "buPewzBAqE5m",
        "outputId": "3315209b-e89a-45d2-f7b5-e998496dab8e",
        "trusted": true
      },
      "cell_type": "code",
      "source": "# empezaremos con una regresion multivariada usando las variables numéricas como nuestras variables independientes\ndf.dtypes",
      "execution_count": null,
      "outputs": []
    },
    {
      "metadata": {
        "colab": {
          "base_uri": "https://localhost:8080/",
          "height": 553
        },
        "colab_type": "code",
        "executionInfo": {
          "elapsed": 3147,
          "status": "ok",
          "timestamp": 1562725069985,
          "user": {
            "displayName": "Miguel Rivera S",
            "photoUrl": "https://lh4.googleusercontent.com/-q9Yvxc5eH4o/AAAAAAAAAAI/AAAAAAAAAIU/GmARyV7G9qw/s64/photo.jpg",
            "userId": "11429972115989356177"
          },
          "user_tz": 240
        },
        "id": "bx8Xg1UCqE5q",
        "outputId": "2c93fd69-45df-4be4-cbe5-23825df13c74",
        "trusted": true
      },
      "cell_type": "code",
      "source": "# grafico loan amount vs. lender count\nax = sns.regplot(x='lender_count', y='loan_amount', data=df, fit_reg=False)\nax.set_title('Scatter plot of lender count vs requested loan amount')",
      "execution_count": null,
      "outputs": []
    },
    {
      "metadata": {
        "colab_type": "text",
        "id": "CddTolFqqE5t"
      },
      "cell_type": "markdown",
      "source": "¿Cómo es la relación entre la cantidad de prestamistas (lender_count) y el monto del préstamo (loan_amount)? Es lineal?\n<br>\n<br>\n<br>"
    },
    {
      "metadata": {
        "colab": {
          "base_uri": "https://localhost:8080/",
          "height": 551
        },
        "colab_type": "code",
        "executionInfo": {
          "elapsed": 3599,
          "status": "ok",
          "timestamp": 1562725070444,
          "user": {
            "displayName": "Miguel Rivera S",
            "photoUrl": "https://lh4.googleusercontent.com/-q9Yvxc5eH4o/AAAAAAAAAAI/AAAAAAAAAIU/GmARyV7G9qw/s64/photo.jpg",
            "userId": "11429972115989356177"
          },
          "user_tz": 240
        },
        "id": "c31oHKTyqE5u",
        "outputId": "db3d612a-a303-4218-e565-07ba32d1dc92",
        "trusted": true
      },
      "cell_type": "code",
      "source": "# Grafica loan amount vs. repayment term\nax = sns.regplot(x='repayment_term', y='loan_amount', data=df, fit_reg=False)\nax.set_title('Scatter plot of repayment term vs requested loan amount')",
      "execution_count": null,
      "outputs": []
    },
    {
      "metadata": {
        "colab_type": "text",
        "id": "_rF77bU-qE5y"
      },
      "cell_type": "markdown",
      "source": "¿Cómo es la relación entre el plazo de reembolso (repayment) y el monto del préstamo (loan amount)? Es lineal?\n\n<br>\n<br>\n<br>"
    },
    {
      "metadata": {
        "colab": {
          "base_uri": "https://localhost:8080/",
          "height": 1000
        },
        "colab_type": "code",
        "executionInfo": {
          "elapsed": 8499,
          "status": "ok",
          "timestamp": 1562725075352,
          "user": {
            "displayName": "Miguel Rivera S",
            "photoUrl": "https://lh4.googleusercontent.com/-q9Yvxc5eH4o/AAAAAAAAAAI/AAAAAAAAAIU/GmARyV7G9qw/s64/photo.jpg",
            "userId": "11429972115989356177"
          },
          "user_tz": 240
        },
        "id": "1_n1YF3jqE5z",
        "outputId": "2d3ec3bc-463d-44c7-8e6b-90630bd8b264",
        "trusted": true,
        "scrolled": false
      },
      "cell_type": "code",
      "source": "for sector in df['sector'].unique():\n    ax = sns.regplot(x='lender_count', y='loan_amount', data=df[df['sector']==sector], fit_reg=False)\n    ax.set_title(sector)\n    plt.show()\n",
      "execution_count": null,
      "outputs": []
    },
    {
      "metadata": {
        "colab_type": "raw",
        "id": "6XQyViVFqE52"
      },
      "cell_type": "markdown",
      "source": "La relación lineal entre lender_count y loan_amount es más fuerte para la salud (Health) y el uso personal (Personal Use)."
    },
    {
      "metadata": {
        "colab": {
          "base_uri": "https://localhost:8080/",
          "height": 1000
        },
        "colab_type": "code",
        "executionInfo": {
          "elapsed": 26345,
          "status": "ok",
          "timestamp": 1562725093207,
          "user": {
            "displayName": "Miguel Rivera S",
            "photoUrl": "https://lh4.googleusercontent.com/-q9Yvxc5eH4o/AAAAAAAAAAI/AAAAAAAAAIU/GmARyV7G9qw/s64/photo.jpg",
            "userId": "11429972115989356177"
          },
          "user_tz": 240
        },
        "id": "BauX3AJQqE53",
        "outputId": "5258e34c-1a5b-4ba5-e5e9-7ea61a5781d3",
        "trusted": true,
        "scrolled": true
      },
      "cell_type": "code",
      "source": "for country in df['location_country_code'].unique():\n    ax = sns.lmplot(x='lender_count', y='loan_amount', data=df[df['location_country_code']==country], fit_reg=False,\n                    hue = 'sector')\n    ax = plt.gca()\n    ax.set_title(country)\n",
      "execution_count": null,
      "outputs": []
    },
    {
      "metadata": {
        "colab_type": "text",
        "id": "7Z7NK7xDqE57"
      },
      "cell_type": "markdown",
      "source": "La relación lineal entre lender_count y loan_amount es más fuerte para el país ZM"
    },
    {
      "metadata": {
        "colab": {
          "base_uri": "https://localhost:8080/",
          "height": 435
        },
        "colab_type": "code",
        "executionInfo": {
          "elapsed": 26339,
          "status": "ok",
          "timestamp": 1562725093209,
          "user": {
            "displayName": "Miguel Rivera S",
            "photoUrl": "https://lh4.googleusercontent.com/-q9Yvxc5eH4o/AAAAAAAAAAI/AAAAAAAAAIU/GmARyV7G9qw/s64/photo.jpg",
            "userId": "11429972115989356177"
          },
          "user_tz": 240
        },
        "id": "VpwMbIGzqE58",
        "outputId": "54506687-4f0f-456d-8df4-3b242ad53ca4",
        "trusted": true
      },
      "cell_type": "code",
      "source": "# Nuestra regresión lineal simple del notebook anterior\npd.options.mode.chained_assignment = None  # default='warn'\n\n# Variable dependiente\ny_column = 'loan_amount'\ny = df[y_column]\n# Variables independientes\nx_columns = ['lender_count']\nX = df[x_columns]\n#Agregar un término intercepto a las variables independientes. \n#Esto es necesario para incluir el término constante de la ecuación de regresión lineal.\nX['cnst'] = 1\n# Dividimos entre training y test data sets\nX_train, X_test, y_train, y_test = train_test_split(X, y, test_size=0.2, random_state=42)\n\nmodel1 = sm.OLS(endog = y_train,exog = X_train).fit()\nprint(model1.summary())",
      "execution_count": null,
      "outputs": []
    },
    {
      "metadata": {
        "colab_type": "text",
        "id": "-KhtoZdCqE5_"
      },
      "cell_type": "markdown",
      "source": "¿Qué cree que sucederá si incluimos la variable funded_amount, que sabemos que está altamente correlacionada con el recuento de prestamistas?\n\n<br>\n<br>\n<br>"
    },
    {
      "metadata": {
        "colab": {
          "base_uri": "https://localhost:8080/",
          "height": 485
        },
        "colab_type": "code",
        "executionInfo": {
          "elapsed": 26341,
          "status": "ok",
          "timestamp": 1562725093211,
          "user": {
            "displayName": "Miguel Rivera S",
            "photoUrl": "https://lh4.googleusercontent.com/-q9Yvxc5eH4o/AAAAAAAAAAI/AAAAAAAAAIU/GmARyV7G9qw/s64/photo.jpg",
            "userId": "11429972115989356177"
          },
          "user_tz": 240
        },
        "id": "dlBp9WkbqE6A",
        "outputId": "4b649e51-d52b-4104-c598-a81f8ade00fa",
        "trusted": true
      },
      "cell_type": "code",
      "source": "# Variable dependiente\ny_column = 'loan_amount'\ny = df[y_column]\n# Variables independientes\nx_columns = ['lender_count', 'funded_amount']\nX = df[x_columns]\n#Agregar un término intercepto a las variables independientes. \n#Esto es necesario para incluir el término constante de la ecuación de regresión lineal.\nX['cnst'] = 1\n# Dividimos entre training y test data sets\nX_train, X_test, y_train, y_test = train_test_split(X, y, test_size=0.2, random_state=42)\n\nmodel2 = sm.OLS(endog = y_train,exog = X_train).fit()\nprint(model2.summary())",
      "execution_count": null,
      "outputs": []
    },
    {
      "metadata": {
        "colab_type": "text",
        "id": "YK4b3hD2qE6E"
      },
      "cell_type": "markdown",
      "source": "Para mejorar nuestro modelo, podemos 1) eliminar variables altamente correlacionadas que están causando multicolinealidad, 2) incluir las variables categóricas que no hemos utilizado previamente (es decir, sector y código_país_de_ ubicación), y 3) incluir 'Interaction Terms'. Los términos de interacción son variables que describen la interacción entre dos o más variables independientes."
    },
    {
      "metadata": {
        "colab": {},
        "colab_type": "code",
        "id": "DhpraJohqE6F",
        "trusted": true
      },
      "cell_type": "code",
      "source": "for country in df['location_country_code'].unique():\n    if country is not np.nan:\n        df['country_'+country] = np.where(df.location_country_code == country, 1, 0)",
      "execution_count": null,
      "outputs": []
    },
    {
      "metadata": {
        "trusted": true
      },
      "cell_type": "code",
      "source": "df.head()",
      "execution_count": null,
      "outputs": []
    },
    {
      "metadata": {
        "colab_type": "text",
        "id": "2TdqVhfgqE6I"
      },
      "cell_type": "markdown",
      "source": "Modelo Multivariado\n===\n\nUna variable que toma el valor de uno o cero dependiendo del valor de otra variable se llama \"indicador\". La variable country_ZM que creamos es 1 si la variable location_country_code es \"ZM\" y 0 en caso contrario. Estas variables indicadoras son cómo utilizamos las variables categóricas en la regresión. \n\nRealicemos una regresión lineal multivariante utilizando loan_amount como nuestra variable independiente, y lender_count, el indicador ZM del país y los indicadores de alimentos, uso personal y minorista de los sectores como nuestras variables dependientes.\n\n$$Y = \\beta_0 + \\beta_1 X_1 + \\beta_2 X_2 + \\beta_3 X_3 + \\beta_4 X_4 + \\beta_5 X_5$$\n\n$\\beta_0$ se llama intercepto y representa el valor medio esperado de Y cuando todas las variables explicativas son iguales a 0.  \n\n$\\beta_1$ se llama coeficiente beta y representa el cambio esperado en el valor de Y que resulta de un cambio de una unidad en $X_1$. En nuestro ejemplo, $X_1$ será lender_count.\n\n$\\beta_2$ se llama coeficiente beta y representa el cambio esperado en el valor de Y que resulta de un cambio de una unidad en $X_2$. En nuestro ejemplo, $X_2$ sera el indicador del pais ZM.\n\n$\\beta_3$ se llama coeficiente beta y representa el cambio esperado en el valor de Y que resulta de un cambio de una unidad en $X_3$. En nuestro ejemplo, $X_3$ será el indicador del sector Food.\n\n$\\beta_4$ llama coeficiente beta y representa el cambio esperado en el valor de Y que resulta de un cambio de una unidad en $X_4$. En nuestro ejemplo, $X_4$ será el indicador del sector Personal Use.\n\n$\\beta_5$ llama coeficiente beta y representa el cambio esperado en el valor de Y que resulta de un cambio de una unidad en $X_5$. En nuestro ejemplo, $X_5$ será el indicador del sector Retail."
    },
    {
      "metadata": {
        "colab": {
          "base_uri": "https://localhost:8080/",
          "height": 452
        },
        "colab_type": "code",
        "executionInfo": {
          "elapsed": 26343,
          "status": "ok",
          "timestamp": 1562725093216,
          "user": {
            "displayName": "Miguel Rivera S",
            "photoUrl": "https://lh4.googleusercontent.com/-q9Yvxc5eH4o/AAAAAAAAAAI/AAAAAAAAAIU/GmARyV7G9qw/s64/photo.jpg",
            "userId": "11429972115989356177"
          },
          "user_tz": 240
        },
        "id": "yo6NheM3qE6J",
        "outputId": "48027cdf-1a3a-4f31-efb2-1ded026e832f",
        "trusted": true
      },
      "cell_type": "code",
      "source": "y = df['loan_amount']\nX = df[['lender_count', 'country_RW']]\n\n# Add an intercept term to the independent variables\n\nX['cnst'] = 1\nX_train, X_test, y_train, y_test = train_test_split(X, y, test_size=0.2, random_state=42)\n\nmodel3 = sm.OLS(endog = y_train,exog = X_train).fit()\nprint(model3.summary())",
      "execution_count": null,
      "outputs": []
    },
    {
      "metadata": {
        "colab_type": "text",
        "id": "DakQ3vl0qE6O"
      },
      "cell_type": "markdown",
      "source": "Aumentamos nuestro R cuadrado ajustado de 0.811 a 0.846. También mirar los p-values nos dice que todos los coeficientes son significativos. Es posible que el aumento en el monto del préstamo con el número de prestamistas pueda ser diferente para diferentes países y / o sectores. Probemos esto en el país RW. Por lo tanto, creamos nuevas variables que capturan esta interacción creando una nueva función de conteo de prestamistas para el país RW."
    },
    {
      "metadata": {
        "colab": {},
        "colab_type": "code",
        "id": "3O7PWKgOqE6P",
        "trusted": true
      },
      "cell_type": "code",
      "source": "# Interaction term for all countries other than RW\ndf['lc_country_others'] = np.where(~df['location_country_code'].isin(['RW']),df['lender_count'],0)\n# Interaction term for Health\ndf['lc_country_rw'] = np.where(df['location_country_code'] == 'RW',df['lender_count'],0)",
      "execution_count": null,
      "outputs": []
    },
    {
      "metadata": {
        "colab": {
          "base_uri": "https://localhost:8080/",
          "height": 468
        },
        "colab_type": "code",
        "executionInfo": {
          "elapsed": 26346,
          "status": "ok",
          "timestamp": 1562725093221,
          "user": {
            "displayName": "Miguel Rivera S",
            "photoUrl": "https://lh4.googleusercontent.com/-q9Yvxc5eH4o/AAAAAAAAAAI/AAAAAAAAAIU/GmARyV7G9qw/s64/photo.jpg",
            "userId": "11429972115989356177"
          },
          "user_tz": 240
        },
        "id": "o9hFEfbTqE6T",
        "outputId": "80740018-8822-4a90-88f8-0e2a20068131",
        "trusted": true
      },
      "cell_type": "code",
      "source": "# Define the dependent variable\ny = df['loan_amount']\n# Define the independent variables\nX = df[['lender_count', 'country_RW', 'lc_country_rw']]\n# Add an intercept term to the independent variables\nX['cnst'] = 1\nX_train, X_test, y_train, y_test = train_test_split(X, y, test_size=0.2, random_state=42)\n\nmodel4 = sm.OLS(endog = y_train,exog = X_train).fit()\nprint(model4.summary())",
      "execution_count": null,
      "outputs": []
    },
    {
      "metadata": {
        "colab_type": "text",
        "id": "kxpItbm2qE6a"
      },
      "cell_type": "markdown",
      "source": "¡Mira eso! Con solo crear un término de interacción entre las características lender_count y location_country_code, hemos logrado aumentar nuestro R2 adj de 0.846 a 0.850. ¡No está mal! \n\nTambién mira los p-values nos dice que todos los coeficientes son significativos. La siguiente pregunta es, entonces, ¿cómo interpretamos los coeficientes de este término de interacción, lc_country_rw? Interpretamos esto de la siguiente manera; Si el país es Rwanda, por cada prestamista adicional, esperamos que el monto del préstamo disminuya en $ 14. El mismo concepto se puede aplicar a los otros coeficientes."
    },
    {
      "metadata": {
        "colab_type": "text",
        "id": "P4KvxKT6qE6c"
      },
      "cell_type": "markdown",
      "source": "Ahora, ¿podemos agregar más variables a este modelo? Pensemos en los datos de préstamos y las variables de ingeniería para encontrar otras que podrían ser útiles. Agreguemos variables por sectores."
    },
    {
      "metadata": {
        "colab": {},
        "colab_type": "code",
        "id": "l9j4QCiwqE6d",
        "trusted": true
      },
      "cell_type": "code",
      "source": "for sect in df['sector'].unique():\n    df['sector_'+sect] = np.where(df.sector ==sect, 1, 0)",
      "execution_count": null,
      "outputs": []
    },
    {
      "metadata": {
        "colab": {
          "base_uri": "https://localhost:8080/",
          "height": 518
        },
        "colab_type": "code",
        "executionInfo": {
          "elapsed": 26350,
          "status": "ok",
          "timestamp": 1562725093227,
          "user": {
            "displayName": "Miguel Rivera S",
            "photoUrl": "https://lh4.googleusercontent.com/-q9Yvxc5eH4o/AAAAAAAAAAI/AAAAAAAAAIU/GmARyV7G9qw/s64/photo.jpg",
            "userId": "11429972115989356177"
          },
          "user_tz": 240
        },
        "id": "Og3sNBlqqE6k",
        "outputId": "d4b9edf6-d4b7-4871-bf3b-458ecfcf8ecc",
        "trusted": true
      },
      "cell_type": "code",
      "source": "# Define the dependent variable\ny = df['loan_amount']\n# Define the independent variables\nX = df[['lender_count', 'country_RW', 'lc_country_rw', 'sector_Education', 'sector_Clothing', \n        'sector_Personal Use']]\n# Add an intercept term to the independent variables\nX['cnst'] = 1\nX_train, X_test, y_train, y_test = train_test_split(X, y, test_size=0.2, random_state=42)\n\nmodel5 = sm.OLS(endog = y_train,exog = X_train).fit()\nprint(model5.summary())",
      "execution_count": null,
      "outputs": []
    },
    {
      "metadata": {
        "colab_type": "text",
        "id": "QsfnYyuYqE6o"
      },
      "cell_type": "markdown",
      "source": "Agregar estas características ha mejorado ligeramente el modelo, el adj R2 ha aumentado de 0.850 a 0.853 y nuevamente, todos los p-valores son menores que 0.005, por lo que podemos considerarlo como significativo. Vamos a interpretar los resultados entonces ... \n- country_RW = 3513. En general, la gente en Rwanda solicita préstamos que son 3513 dólares más que el equivalente solicitado por personas en otros países africanos. \n- sector_Clothing = 155. En general, si un préstamo es para ropa, es 155 dólares más que otros. \n- sector_Educación = -442. En general, si un préstamo es para educación, es 442 dólares menos que otros. \n- etc etc"
    },
    {
      "metadata": {
        "colab_type": "text",
        "id": "vueEKUqTqE6p"
      },
      "cell_type": "markdown",
      "source": "Podría intentar crear otras variables. Por ejemplo, podría generar atributos a partir de la variable \"descripción\". Por ejemplo, ¿cómo crearía una variable que indique si los niños se mencionan en la descripción?\n\n<br>\n<br>\n<br>\n"
    },
    {
      "metadata": {
        "colab_type": "text",
        "id": "AeQ_72PuqE6q"
      },
      "cell_type": "markdown",
      "source": "** Ahora revisemos algunos de los supuestos de regresión lineal que cubrimos anteriormente para verificar que podemos interpretar con confianza los coeficientes de los modelos como se indica anteriormente **\n\nPara hacer esto rápidamente, utilizaremos las estadísticas que figuran en la tabla de resumen. Para obtener más información sobre esto, consulte este [awesome page!](http://connor-johnson.com/2014/02/18/linear-regression-with-python/)\n\n1) Normalidad: el número de Prob (JB) es inferior a 0,05, lo que significa que rechazamos la hipótesis nula de que los datos se distribuyen normalmente. **SUPUESTO NO CUMPLIDO**\n\n2) Multicolinealidad: el número de condición es mayor que 30, lo que significa que tenemos un problema con la multicolinealidad en el modelo. **SUPUESTO NO CUMPLIDO**\n\n3) Autocorrelación: el número de Durbin-Watson es aproximadamente 2, por lo que no hay autocorrelación. **SUPUESTO CUMPLIDO**\n\n4) Homocedasticidad: el número de Prob (Omnibus) es menor que 0.05, lo que significa que rechazamos la Hipótesis nula de que los residuos están normalmente distribuidos. **SUPUESTO NO CUMPLIDO**"
    },
    {
      "metadata": {
        "colab_type": "text",
        "id": "qoY3xzjrqE6r"
      },
      "cell_type": "markdown",
      "source": "¡Claramente tenemos un problema aquí! Aunque el poder predictivo del modelo sigue siendo válido, lo que significa que todavía podemos predecir el uso del modelo con un R^2 de 0.853: __NO PODEMOS__ interpretar los coeficientes de la manera que esperamos.\n\nEl problema subyacente es que los datos no se distribuyen normalmente y que no siempre hay una relación lineal entre las variables dependientes e independientes. Por lo tanto, es posible que tengamos que mirar hacia modelos no paramétricos."
    },
    {
      "metadata": {
        "colab_type": "text",
        "id": "nJUvRSfgqE6r"
      },
      "cell_type": "markdown",
      "source": "-----\n\nEvaluación del Modelo\n=====\n\nDescartando el hecho de que nuestros supuestos de regresión lineal no se cumplen por un momento, vamos a evaluar el poder predictivo del modelo.\n\nPara este propósito, vamos a cambiar al paquete de Regresión Lineal de sklearn. Esto nos permite utilizar otras métricas y funciones de sklearn para evaluar el rendimiento del modelo.\n\nUna función importante que vamos a usar aquí es sklearn's [cross_val_score] (http://scikit-learn.org/stable/modules/generated/sklearn.model_selection.cross_val_score.html)\n\nEste modelo nos permite realizar una validación cruzada en nuestro conjunto de datos de entrenamiento y generar el score de nuestra elección. Veamos ..."
    },
    {
      "metadata": {
        "colab": {
          "base_uri": "https://localhost:8080/",
          "height": 33
        },
        "colab_type": "code",
        "executionInfo": {
          "elapsed": 26350,
          "status": "ok",
          "timestamp": 1562725093228,
          "user": {
            "displayName": "Miguel Rivera S",
            "photoUrl": "https://lh4.googleusercontent.com/-q9Yvxc5eH4o/AAAAAAAAAAI/AAAAAAAAAIU/GmARyV7G9qw/s64/photo.jpg",
            "userId": "11429972115989356177"
          },
          "user_tz": 240
        },
        "id": "vr1BkkwWqE6s",
        "outputId": "05403b36-29cf-4720-9e48-3d8ef6b7b54d",
        "trusted": true
      },
      "cell_type": "code",
      "source": "# Initialize the model. We set fit_intercept as false as we already have the constant included in our data. \nlinear = LinearRegression(fit_intercept=False)\n\n# Use the cross_val_sore function to calculate the r2 cross validation\nr2_cross_val_score = cross_val_score(linear, X_train, y_train, cv = 5).mean()\n\n# Results!\nprint('cross validation R2: {}'.format(r2_cross_val_score))",
      "execution_count": null,
      "outputs": []
    },
    {
      "metadata": {
        "colab_type": "text",
        "id": "pIWFEST3qE6v"
      },
      "cell_type": "markdown",
      "source": "¡El puntaje R2 de validación cruzada es muy similar al R2 de entrenamiento, lo que nos da la confianza de que el modelo funcionará bien en los datos de prueba invisibles!\n\nOtra métrica útil para evaluar el rendimiento de un modelo es el error cuadrático medio que nos dice cuánto error produjo nuestro modelo en promedio. ¡También podemos implementar esto en sklearn cross_val_score! De manera predeterminada, la función cross_val_score utilizará el puntaje predeterminado para el modelo, que en el caso de la regresión lineal es el R2.\n\nSin embargo, podemos 'crear' un anotador MSE de la siguiente manera y usarlo en su lugar ..."
    },
    {
      "metadata": {
        "colab": {
          "base_uri": "https://localhost:8080/",
          "height": 50
        },
        "colab_type": "code",
        "executionInfo": {
          "elapsed": 26350,
          "status": "ok",
          "timestamp": 1562725093229,
          "user": {
            "displayName": "Miguel Rivera S",
            "photoUrl": "https://lh4.googleusercontent.com/-q9Yvxc5eH4o/AAAAAAAAAAI/AAAAAAAAAIU/GmARyV7G9qw/s64/photo.jpg",
            "userId": "11429972115989356177"
          },
          "user_tz": 240
        },
        "id": "XSx5v4YhqE6w",
        "outputId": "76fd9024-f3e5-4c27-a3e5-66a50f93d083",
        "trusted": true
      },
      "cell_type": "code",
      "source": "# make MSE scorer\nmse_scorer = make_scorer(mean_squared_error)\n# use the cross_val_score function to calculate to the cross validated MSE\nmse_cross_val_score = cross_val_score(linear, X_train, y_train, scoring=mse_scorer, cv =5).mean()\n# Results!\nprint(f'cross validation MSE: {mse_cross_val_score:.6}')\nprint(f'cross validation RMSE: {np.sqrt(mse_cross_val_score):.4}')",
      "execution_count": null,
      "outputs": []
    },
    {
      "metadata": {
        "colab_type": "text",
        "id": "-X3FDO0AqE6y"
      },
      "cell_type": "markdown",
      "source": "Esto sugiere que el error promedio en nuestro modelo es de 951 dólares; esto parece un poco alto\n\n** ¡Ahora veamos cómo funciona en nuestros datos de prueba! **"
    },
    {
      "metadata": {
        "colab": {
          "base_uri": "https://localhost:8080/",
          "height": 33
        },
        "colab_type": "code",
        "executionInfo": {
          "elapsed": 26753,
          "status": "ok",
          "timestamp": 1562725093633,
          "user": {
            "displayName": "Miguel Rivera S",
            "photoUrl": "https://lh4.googleusercontent.com/-q9Yvxc5eH4o/AAAAAAAAAAI/AAAAAAAAAIU/GmARyV7G9qw/s64/photo.jpg",
            "userId": "11429972115989356177"
          },
          "user_tz": 240
        },
        "id": "kQ1Vg_QVqE6z",
        "outputId": "852712bf-7f24-4bc1-a0b7-3d729398d4e6",
        "trusted": true
      },
      "cell_type": "code",
      "source": "#Train the Model\nmodel2 = linear.fit(X_train, y_train)\n#Get R2 for test data\nprint(f'R2 on test data: {model2.score(X_test, y_test):.4}')",
      "execution_count": null,
      "outputs": []
    },
    {
      "metadata": {
        "colab_type": "text",
        "id": "TbsAadEXqE64"
      },
      "cell_type": "markdown",
      "source": "¡Excelente! ¡Esto es comparable a la validación cruzada R2, por lo que sabemos que no estamos sobreajustando!"
    },
    {
      "metadata": {
        "colab": {
          "base_uri": "https://localhost:8080/",
          "height": 33
        },
        "colab_type": "code",
        "executionInfo": {
          "elapsed": 26754,
          "status": "ok",
          "timestamp": 1562725093635,
          "user": {
            "displayName": "Miguel Rivera S",
            "photoUrl": "https://lh4.googleusercontent.com/-q9Yvxc5eH4o/AAAAAAAAAAI/AAAAAAAAAIU/GmARyV7G9qw/s64/photo.jpg",
            "userId": "11429972115989356177"
          },
          "user_tz": 240
        },
        "id": "w65-FVFlqE64",
        "outputId": "97426bd8-7ed5-4074-fb99-ee543d01e1a2",
        "trusted": true
      },
      "cell_type": "code",
      "source": "# Get predictions for the test data\ny_pred_test = model2.predict(X_test)\nprint(f'root mean squared error on test data: {np.sqrt(mean_squared_error(y_test,y_pred_test)):.4}')",
      "execution_count": null,
      "outputs": []
    },
    {
      "metadata": {
        "colab_type": "text",
        "id": "3fBGJ9tcqE68"
      },
      "cell_type": "markdown",
      "source": "Una vez más, esto es comparable a la puntuación validada cruzada, por lo que estamos seguros de que el modelo funciona bien en datos no vistos.\n\nFinalmente, visualicemos cómo se desempeña nuestro modelo en los datos de prueba ..."
    },
    {
      "metadata": {
        "colab": {
          "base_uri": "https://localhost:8080/",
          "height": 481
        },
        "colab_type": "code",
        "executionInfo": {
          "elapsed": 26755,
          "status": "ok",
          "timestamp": 1562725093637,
          "user": {
            "displayName": "Miguel Rivera S",
            "photoUrl": "https://lh4.googleusercontent.com/-q9Yvxc5eH4o/AAAAAAAAAAI/AAAAAAAAAIU/GmARyV7G9qw/s64/photo.jpg",
            "userId": "11429972115989356177"
          },
          "user_tz": 240
        },
        "id": "bRsETgHQqE68",
        "outputId": "638e60a0-8886-4452-bb87-7b7fc0134aee",
        "trusted": true
      },
      "cell_type": "code",
      "source": "plt.figure(figsize=(9,7))\nplt.scatter(y_pred_test, y_test, alpha=0.5, c='r')\nplt.title('predicted vs true for test data')\nplt.xlabel('predicted loan amounts')\nplt.ylabel('True loan amounts')\nplt.show();",
      "execution_count": null,
      "outputs": []
    },
    {
      "metadata": {
        "colab_type": "text",
        "id": "YwGfl4HNqE7C"
      },
      "cell_type": "markdown",
      "source": "-----\nAppendix A.<br>Additional context on how to deal with skewed data:\n----\n<a id=\"skewed\"> </a>\n\n\nOne potential solution is to **log transform** your data. For a quick review of logarithms, look [here](https://www.mathsisfun.com/algebra/logarithms.html). \n\nNote that when we log transform data, we change our interpretation of the final regression output. Previously we had a simple linear equation... \n\n    y = mx + b\n\nThis could be interpreted as, with every unit increase in x, we get a m increase in outcome feature y. Now we have a log equation: \n\n    log(y) = mx + b\n    \nThis is less intuitive, as we have to solve for y. When we solve for y through exponentiation, we get the following equation: \n\n    y = 10^(mx + b)\n    y = 10^(mx) * 10^(b)\n\nThe default base for log is 10. The takeaway here is that the impact x would have on y is much larger than linear - it is **exponentiated**. We will return to this interpretation in the discussion of the linear regression model. Let's try log transforming our loan_amount variable. "
    },
    {
      "metadata": {
        "colab": {
          "base_uri": "https://localhost:8080/",
          "height": 599
        },
        "colab_type": "code",
        "executionInfo": {
          "elapsed": 27285,
          "status": "ok",
          "timestamp": 1562725094168,
          "user": {
            "displayName": "Miguel Rivera S",
            "photoUrl": "https://lh4.googleusercontent.com/-q9Yvxc5eH4o/AAAAAAAAAAI/AAAAAAAAAIU/GmARyV7G9qw/s64/photo.jpg",
            "userId": "11429972115989356177"
          },
          "user_tz": 240
        },
        "id": "ZeXzT3-wqE7D",
        "outputId": "fc709965-c2b0-4989-9adf-68a9b09f3111",
        "trusted": true
      },
      "cell_type": "code",
      "source": "# Histogram of loan_amount \nplt.hist(df['loan_amount'])",
      "execution_count": null,
      "outputs": []
    },
    {
      "metadata": {
        "colab": {
          "base_uri": "https://localhost:8080/",
          "height": 599
        },
        "colab_type": "code",
        "executionInfo": {
          "elapsed": 27613,
          "status": "ok",
          "timestamp": 1562725094497,
          "user": {
            "displayName": "Miguel Rivera S",
            "photoUrl": "https://lh4.googleusercontent.com/-q9Yvxc5eH4o/AAAAAAAAAAI/AAAAAAAAAIU/GmARyV7G9qw/s64/photo.jpg",
            "userId": "11429972115989356177"
          },
          "user_tz": 240
        },
        "id": "s8spbyv-qE7F",
        "outputId": "0deba783-f48c-4d80-fa0c-b432167263a1",
        "trusted": true
      },
      "cell_type": "code",
      "source": "# Take the log of loan amount and plot histogram\nlog_loan_amount = np.log(df['loan_amount'])\nplt.hist(log_loan_amount)",
      "execution_count": null,
      "outputs": []
    },
    {
      "metadata": {
        "colab_type": "text",
        "id": "dgYlf8LMqE7I"
      },
      "cell_type": "markdown",
      "source": "----\nAppendix B <br> Choosing the right features\n----\n\nSo we've increased our R2 by adding additional promising features from our Exploratory Data Analysis (EDA). However, how should we go about choosing the best combination of features for our model? In general there are two approachs:\n- stepwise regression = Incrementally adding promising features and checking the R2 and p-valules at each step to check it is worth adding. This is the approach we used above. \n- Ridge or Lasso regression = These are methods which algorithmically reduce the beta coefficients for less important feature and can be used to find the most useful combination of features. More in depth information can be found here: [Regularization Regression](https://www.analyticsvidhya.com/blog/2016/01/complete-tutorial-ridge-lasso-regression-python/)\n\nLet's test Lasso regression and see what we get! \n\nFor context, Ridge and Lasso regression have a hyper-parameters called 'alpha' which determines how 'strong' the regularization affect is. \n\nA useful way to use Ridge or Lasso regression is to run the regression over a range of alphas and see which features maintain a large beta coefficient for the longest. It is these features which have the most predictive power!"
    },
    {
      "metadata": {
        "colab": {
          "base_uri": "https://localhost:8080/",
          "height": 585
        },
        "colab_type": "code",
        "executionInfo": {
          "elapsed": 27614,
          "status": "ok",
          "timestamp": 1562725094499,
          "user": {
            "displayName": "Miguel Rivera S",
            "photoUrl": "https://lh4.googleusercontent.com/-q9Yvxc5eH4o/AAAAAAAAAAI/AAAAAAAAAIU/GmARyV7G9qw/s64/photo.jpg",
            "userId": "11429972115989356177"
          },
          "user_tz": 240
        },
        "id": "2G5to62oqE7I",
        "outputId": "946ba098-29d1-4721-9d35-86ad8484cd1c",
        "trusted": true
      },
      "cell_type": "code",
      "source": "# Define the dependent variable\ny = df['loan_amount']\n# Define the independent variables\nX = df[['lender_count', 'country_ZA', 'country_ZM', 'lc_country_rw', 'sector_Education', 'sector_Clothing', \n        'sector_Personal Use', 'sector_Retail', 'sector_Transportation', 'sector_Agriculture']]\n# Add an intercept term to the independent variables\nX['cnst'] = 1\nX_train, X_test, y_train, y_test = train_test_split(X, y, test_size=0.2, random_state=42)\n\nmodel6 = sm.OLS(endog = y_train,exog = X_train).fit()\nprint(model6.summary())",
      "execution_count": null,
      "outputs": []
    },
    {
      "metadata": {
        "colab": {},
        "colab_type": "code",
        "id": "9yx4ZtFGqE7L",
        "trusted": true
      },
      "cell_type": "code",
      "source": "from sklearn.linear_model import Lasso",
      "execution_count": null,
      "outputs": []
    },
    {
      "metadata": {
        "colab": {},
        "colab_type": "code",
        "id": "jdABplX5qE7M",
        "trusted": true
      },
      "cell_type": "code",
      "source": "alphas = np.arange(0.001, 0.502, 0.002)\nlasso_coefs = []\nX_train_lasso= X_train[X_train.columns.tolist()] # Select columns / features for model\n\nfor a in alphas:\n    lassoreg = Lasso(alpha=a, copy_X=True, normalize=True)\n    lassoreg.fit(X_train_lasso, y_train)\n    lasso_coefs.append(lassoreg.coef_)",
      "execution_count": null,
      "outputs": []
    },
    {
      "metadata": {
        "colab": {
          "base_uri": "https://localhost:8080/",
          "height": 608
        },
        "colab_type": "code",
        "executionInfo": {
          "elapsed": 29001,
          "status": "ok",
          "timestamp": 1562725095889,
          "user": {
            "displayName": "Miguel Rivera S",
            "photoUrl": "https://lh4.googleusercontent.com/-q9Yvxc5eH4o/AAAAAAAAAAI/AAAAAAAAAIU/GmARyV7G9qw/s64/photo.jpg",
            "userId": "11429972115989356177"
          },
          "user_tz": 240
        },
        "id": "CErcBjASqE7O",
        "outputId": "8793b426-7bdb-4379-a9ac-bc26a2bc0dcb",
        "trusted": true
      },
      "cell_type": "code",
      "source": "lasso_coefs = np.asarray(lasso_coefs).T\n\nplt.figure(figsize=(14,10))\nfor coefs, feature in zip(lasso_coefs, X_train_lasso.columns):\n    plt.plot(alphas, coefs, label = feature)\nplt.legend(loc='best')\nplt.show()",
      "execution_count": null,
      "outputs": []
    },
    {
      "metadata": {
        "colab_type": "text",
        "id": "HwFdOZHfqE7R"
      },
      "cell_type": "markdown",
      "source": "When alpha is approximately 0.25, the gold, green, and red lines go to 0"
    }
  ],
  "metadata": {
    "colab": {
      "collapsed_sections": [],
      "name": "2_3_linear_regression_build_multivariate_model.ipynb",
      "provenance": [],
      "version": "0.3.2"
    },
    "kernelspec": {
      "name": "python36",
      "display_name": "Python 3.6",
      "language": "python"
    },
    "language_info": {
      "mimetype": "text/x-python",
      "nbconvert_exporter": "python",
      "name": "python",
      "pygments_lexer": "ipython3",
      "version": "3.6.6",
      "file_extension": ".py",
      "codemirror_mode": {
        "version": 3,
        "name": "ipython"
      }
    }
  },
  "nbformat": 4,
  "nbformat_minor": 1
}