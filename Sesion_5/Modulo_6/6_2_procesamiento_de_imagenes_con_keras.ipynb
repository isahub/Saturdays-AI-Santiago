{
 "cells": [
  {
   "cell_type": "markdown",
   "metadata": {},
   "source": [
    "# Procesamiento de imágenes con Keras\n",
    "\n",
    "Keras es una librería de *deep learning* o aprendizaje profundo, construida sobre TensorFlow. Podemos usarla para transformar nuestros datos de imagenes en matrices. A menurdo, utilizamos aprendizaje profundo para hacer el procesamiento de imágenes. En este ejemplo, usaremos Naive Bayes para luego demostrar cómo el aprendizaje profundo funcionará mucho mejor que Naive Bayes."
   ]
  },
  {
   "cell_type": "code",
   "execution_count": 1,
   "metadata": {},
   "outputs": [
    {
     "name": "stderr",
     "output_type": "stream",
     "text": [
      "Using TensorFlow backend.\n"
     ]
    }
   ],
   "source": [
    "import numpy as np # algebra lineal\n",
    "import pandas as pd # procesamiento de datos, I/O para CSV\n",
    "import seaborn as sns\n",
    "\n",
    "from subprocess import check_output\n",
    "\n",
    "import os, sys\n",
    "from IPython.display import display\n",
    "from IPython.display import Image as _Imgdis\n",
    "from PIL import Image\n",
    "import numpy as np\n",
    "from time import time\n",
    "from time import sleep\n",
    "\n",
    "from scipy import ndimage\n",
    "from keras.preprocessing.image import ImageDataGenerator, array_to_img, img_to_array, load_img\n",
    "\n",
    "from sklearn.model_selection import train_test_split\n",
    "from sklearn.naive_bayes import MultinomialNB"
   ]
  },
  {
   "cell_type": "markdown",
   "metadata": {},
   "source": [
    "### Procesar imágenes como matrices"
   ]
  },
  {
   "cell_type": "code",
   "execution_count": 2,
   "metadata": {},
   "outputs": [
    {
     "name": "stdout",
     "output_type": "stream",
     "text": [
      "Working with 202 images\n",
      "Image examples: \n",
      "image_189.png\n",
      "image_57.png\n"
     ]
    }
   ],
   "source": [
    "# # Crear un conjunto de datos de memes\n",
    "folder_1 = \"memes\"\n",
    "\n",
    "# Crear una lista de archivos en la carpeta especificada\n",
    "meme_files = [f for f in os.listdir(folder_1) if os.path.isfile(os.path.join(folder_1, f))]\n",
    "\n",
    "print(\"Working with {0} images\".format(len(meme_files)))\n",
    "print(\"Image examples: \")\n",
    "\n",
    "# Imprimir dos ejemplos usando display (_Imgdis ()), que puede leer los archivos de imagen\n",
    "for i in range(150, 152):\n",
    "    print(meme_files[i])\n",
    "    display(_Imgdis(filename=folder_1 + \"/\" + meme_files[i], width=240, height=320))"
   ]
  },
  {
   "cell_type": "code",
   "execution_count": 3,
   "metadata": {},
   "outputs": [
    {
     "name": "stdout",
     "output_type": "stream",
     "text": [
      "Working with 184 images\n",
      "Image examples: \n",
      "8623550408_d65bbd8897_o.jpg\n",
      "14589191718_5bc1209260_o.jpg\n"
     ]
    }
   ],
   "source": [
    "# Crear un conjunto de datos de no-memes, extraído de este conjunto de datos:\n",
    "# http://press.liacs.nl/mirflickr/mirdownload.html\n",
    "\n",
    "#folder_0 = \"non_memes\"\n",
    "folder_0 = \"no-memes\"\n",
    "\n",
    "# Crear una lista de los archivos que están en esa carpeta\n",
    "non_meme_files = [f for f in os.listdir(folder_0) if os.path.isfile(os.path.join(folder_0, f))]\n",
    "\n",
    "print(\"Working with {0} images\".format(len(non_meme_files)))\n",
    "print(\"Image examples: \")\n",
    "\n",
    "# Imprima dos ejemplos usando display (_Imgdis ()), que puede leer los archivos de imagen\n",
    "#for i in range(150, 152):\n",
    "for i in range(2):\n",
    "    print(non_meme_files[i])\n",
    "    display(_Imgdis(filename=folder_0 + \"/\" + non_meme_files[i], width=240, height=320))"
   ]
  },
  {
   "cell_type": "code",
   "execution_count": 4,
   "metadata": {},
   "outputs": [],
   "source": [
    "## Preparar arrays para guardar los datos en un formato adecuado\n",
    "y_data = [1]*len(meme_files) + [0]*len(non_meme_files)\n",
    "meme_colors = np.ndarray(shape = (len(meme_files), 3), dtype=np.float32)\n",
    "non_meme_colors = np.ndarray(shape = (len(non_meme_files), 3), dtype=np.float32)\n",
    "image_size_areas = []\n",
    "\n",
    "# Dimensiones para estandarizar las imágenes\n",
    "image_height = 120\n",
    "image_width = 160\n",
    "channels = 3\n",
    "\n",
    "# Hacer una matriz de 3 dimensiones (3 para RGB o número de canales)\n",
    "\n",
    "dataset = np.ndarray(shape=(len(y_data), channels, image_height, image_width), dtype=np.float32)"
   ]
  },
  {
   "cell_type": "code",
   "execution_count": 5,
   "metadata": {},
   "outputs": [
    {
     "name": "stdout",
     "output_type": "stream",
     "text": [
      "250 images to array\n"
     ]
    }
   ],
   "source": [
    "# Agregar una matriz de cada imagen de meme a nuestro dataset (ten en cuenta que este código\n",
    "# se puede mejorar creando una función read_image en lugar de repetir el bucle for dos veces)\n",
    "\n",
    "i = 0\n",
    "for j in range(len(meme_files)):\n",
    "    img = load_img(folder_1 + \"/\" + meme_files[j])#esta es una imagen PIL\n",
    "    #Guardar dimensiones iniciales antes de cambiar el tamaño\n",
    "    image_size_areas.append(img.size[0] * img.size[1])\n",
    "    img = img.resize((image_height, image_width))\n",
    "    # Convertir a numpy array y guardar colores\n",
    "    x = img_to_array(img)\n",
    "    meme_colors[j] = [x[0].sum(), x[1].sum(), x[2].sum()]\n",
    "    x = x.reshape((channels, image_height, image_width))\n",
    "    try:\n",
    "        dataset[i] = x\n",
    "        i += 1\n",
    "        if i % 250 == 0:\n",
    "            print(\"%d images to array\" % i)\n",
    "    except Exception as e:\n",
    "        i += 1\n",
    "        print(\"failed on %d\" %i, e)\n",
    "\n",
    "# Agregue una matriz de cada imagen no meme a nuestro conjunto de datos\n",
    "for k in range(len(non_meme_files)):\n",
    "    img = load_img(folder_0 + \"/\" + non_meme_files[k])  # this is a PIL image\n",
    "    # Guardar dimensiones iniciales antes de cambiar el tamaño\n",
    "    image_size_areas.append(img.size[0] * img.size[1])\n",
    "    img = img.resize((image_height, image_width))\n",
    "    # Convertir a numpy array y guardar colores\n",
    "    x = img_to_array(img)\n",
    "    non_meme_colors[k] = [x[0].sum(), x[1].sum(), x[2].sum()]\n",
    "    x = x.reshape((channels, image_height, image_width))\n",
    "    try:\n",
    "        dataset[i] = x\n",
    "        i += 1\n",
    "        if i % 250 == 0:\n",
    "            print(\"%d images to array\" %i)\n",
    "    except Exception as e:\n",
    "        i += 1\n",
    "        print(\"failed on %d\" %i, e)"
   ]
  },
  {
   "cell_type": "markdown",
   "metadata": {},
   "source": [
    "### Análisis Exploratorio"
   ]
  },
  {
   "cell_type": "code",
   "execution_count": 6,
   "metadata": {},
   "outputs": [
    {
     "name": "stdout",
     "output_type": "stream",
     "text": [
      "386\n",
      "memes: 0.5233160621761658 non-memes: 0.47668393782383417\n"
     ]
    }
   ],
   "source": [
    "# Determinar la proporción de meme versus no meme\n",
    "print(len(y_data))\n",
    "print(\"memes:\", sum(y_data)/len(y_data), \"non-memes:\", (len(y_data)-sum(y_data))/len(y_data))"
   ]
  },
  {
   "cell_type": "code",
   "execution_count": 7,
   "metadata": {},
   "outputs": [
    {
     "data": {
      "text/plain": [
       "<matplotlib.axes._subplots.AxesSubplot at 0x7f454674af60>"
      ]
     },
     "execution_count": 7,
     "metadata": {},
     "output_type": "execute_result"
    },
    {
     "data": {
      "image/png": "[encoded data removed]",
      "text/plain": [
       "<Figure size 432x288 with 1 Axes>"
      ]
     },
     "metadata": {},
     "output_type": "display_data"
    }
   ],
   "source": [
    "# Graficar la distribución de tamaños antes de que se recortaran las imágenes\n",
    "pd.Series(data = image_size_areas).hist()"
   ]
  },
  {
   "cell_type": "code",
   "execution_count": 8,
   "metadata": {},
   "outputs": [
    {
     "name": "stderr",
     "output_type": "stream",
     "text": [
      "/usr/local/lib/python3.6/dist-packages/scipy/stats/stats.py:1713: FutureWarning: Using a non-tuple sequence for multidimensional indexing is deprecated; use `arr[tuple(seq)]` instead of `arr[seq]`. In the future this will be interpreted as an array index, `arr[np.array(seq)]`, which will result either in an error or a different result.\n",
      "  return np.add.reduce(sorted[indexer] * weights, axis=axis) / sumval\n"
     ]
    },
    {
     "data": {
      "text/plain": [
       "<matplotlib.axes._subplots.AxesSubplot at 0x7f44ccaebdd8>"
      ]
     },
     "execution_count": 8,
     "metadata": {},
     "output_type": "execute_result"
    },
    {
     "data": {
      "image/png": "[encoded data removed]",
      "text/plain": [
       "<Figure size 432x288 with 1 Axes>"
      ]
     },
     "metadata": {},
     "output_type": "display_data"
    }
   ],
   "source": [
    "# Graficar un histograma de colores para memes\n",
    "sns.distplot(meme_colors[:,0], color = 'r')\n",
    "sns.distplot(meme_colors[:,1], color = 'g')\n",
    "sns.distplot(meme_colors[:,2], color = 'b')"
   ]
  },
  {
   "cell_type": "code",
   "execution_count": 9,
   "metadata": {},
   "outputs": [
    {
     "name": "stderr",
     "output_type": "stream",
     "text": [
      "/usr/local/lib/python3.6/dist-packages/scipy/stats/stats.py:1713: FutureWarning: Using a non-tuple sequence for multidimensional indexing is deprecated; use `arr[tuple(seq)]` instead of `arr[seq]`. In the future this will be interpreted as an array index, `arr[np.array(seq)]`, which will result either in an error or a different result.\n",
      "  return np.add.reduce(sorted[indexer] * weights, axis=axis) / sumval\n"
     ]
    },
    {
     "data": {
      "text/plain": [
       "<matplotlib.axes._subplots.AxesSubplot at 0x7f44ca929be0>"
      ]
     },
     "execution_count": 9,
     "metadata": {},
     "output_type": "execute_result"
    },
    {
     "data": {
      "image/png": "[encoded data removed]",
      "text/plain": [
       "<Figure size 432x288 with 1 Axes>"
      ]
     },
     "metadata": {},
     "output_type": "display_data"
    }
   ],
   "source": [
    "# Graficar un histograma de colores para no memes\n",
    "sns.distplot(non_meme_colors[:,0], color = 'r')\n",
    "sns.distplot(non_meme_colors[:,1], color = 'g')\n",
    "sns.distplot(non_meme_colors[:,2], color = 'b')"
   ]
  },
  {
   "cell_type": "markdown",
   "metadata": {},
   "source": [
    "### Construir el modelo"
   ]
  },
  {
   "cell_type": "code",
   "execution_count": 10,
   "metadata": {},
   "outputs": [],
   "source": [
    "# El modelo espera un arreglo de 2 dimensiones, así que \\\"aplanamos \\\" nuestro arreglo\n",
    "# de 4 dimensines a 2 dimensiones.\n",
    "dataset_flattened = dataset.reshape(len(y_data) * channels, image_height * image_width)\n",
    "y_data_flattened = [1]*len(meme_files)*3 + [0]*len(non_meme_files)*3"
   ]
  },
  {
   "cell_type": "code",
   "execution_count": 11,
   "metadata": {},
   "outputs": [
    {
     "name": "stdout",
     "output_type": "stream",
     "text": [
      "1158 1158\n"
     ]
    }
   ],
   "source": [
    "print(len(dataset_flattened), len(dataset)*3)"
   ]
  },
  {
   "cell_type": "code",
   "execution_count": 12,
   "metadata": {},
   "outputs": [],
   "source": [
    "# Dividir los datos en conjuntos de entrenamiento y prueba\n",
    "X_train, X_test, y_train, y_test = train_test_split(dataset_flattened, y_data_flattened, test_size=0.2, random_state=33)"
   ]
  },
  {
   "cell_type": "code",
   "execution_count": 13,
   "metadata": {},
   "outputs": [
    {
     "name": "stdout",
     "output_type": "stream",
     "text": [
      "0.5140388768898488 0.5603448275862069\n"
     ]
    }
   ],
   "source": [
    "# Probar la aleatoriedad del conjunto y_train y y_test\n",
    "print(sum(y_train)/len(y_train), sum(y_test)/len(y_test))"
   ]
  },
  {
   "cell_type": "code",
   "execution_count": 14,
   "metadata": {},
   "outputs": [
    {
     "data": {
      "text/plain": [
       "MultinomialNB(alpha=1.0, class_prior=None, fit_prior=True)"
      ]
     },
     "execution_count": 14,
     "metadata": {},
     "output_type": "execute_result"
    }
   ],
   "source": [
    "# Entrenar un clasificador NB multinomial de la biblioteca sklearn\n",
    "nb = MultinomialNB()\n",
    "nb.fit(X_train, y_train)"
   ]
  },
  {
   "cell_type": "code",
   "execution_count": 15,
   "metadata": {},
   "outputs": [
    {
     "data": {
      "text/plain": [
       "'Accuracy : 60.78%'"
      ]
     },
     "execution_count": 15,
     "metadata": {},
     "output_type": "execute_result"
    }
   ],
   "source": [
    "# Probar el modelo en los datos de prueba\n",
    "preds = nb.predict(X_test)\n",
    "\n",
    "# Imprimir la precisión del modelo\n",
    "accuracy = (preds == y_test)\n",
    "'Accuracy : {:.2%}'.format(accuracy.sum() / len(accuracy))"
   ]
  },
  {
   "cell_type": "markdown",
   "metadata": {},
   "source": [
    "Source: https://www.kaggle.com/lgmoneda/from-image-files-to-numpy-arrays"
   ]
  }
 ],
 "metadata": {
  "kernelspec": {
   "display_name": "Python 2",
   "language": "python",
   "name": "python2"
  },
  "language_info": {
   "codemirror_mode": {
    "name": "ipython",
    "version": 3
   },
   "file_extension": ".py",
   "mimetype": "text/x-python",
   "name": "python",
   "nbconvert_exporter": "python",
   "pygments_lexer": "ipython3",
   "version": "3.6.8"
  }
 },
 "nbformat": 4,
 "nbformat_minor": 2
}
